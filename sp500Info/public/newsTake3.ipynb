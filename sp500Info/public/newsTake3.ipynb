{
 "cells": [
  {
   "cell_type": "code",
   "id": "initial_id",
   "metadata": {
    "collapsed": true,
    "ExecuteTime": {
     "end_time": "2024-05-04T02:40:06.004893Z",
     "start_time": "2024-05-04T02:40:03.899292Z"
    }
   },
   "source": "!wget https://bitbucket.org/newsstuff/headlinesdata/raw/3d468c6c414ffb591f6e685644da25aab1621bdf/stock_news.csv",
   "outputs": [
    {
     "name": "stdout",
     "output_type": "stream",
     "text": [
      "--2024-05-03 21:40:04--  https://bitbucket.org/newsstuff/headlinesdata/raw/3d468c6c414ffb591f6e685644da25aab1621bdf/stock_news.csv\r\n",
      "Resolving bitbucket.org (bitbucket.org)... 104.192.141.1\r\n",
      "Connecting to bitbucket.org (bitbucket.org)|104.192.141.1|:443... connected.\r\n",
      "HTTP request sent, awaiting response... 200 OK\r\n",
      "Length: 2227283 (2.1M) [text/plain]\r\n",
      "Saving to: ‘stock_news.csv’\r\n",
      "\r\n",
      "stock_news.csv      100%[===================>]   2.12M  1.82MB/s    in 1.2s    \r\n",
      "\r\n",
      "2024-05-03 21:40:05 (1.82 MB/s) - ‘stock_news.csv’ saved [2227283/2227283]\r\n",
      "\r\n"
     ]
    }
   ],
   "execution_count": 2
  },
  {
   "metadata": {
    "ExecuteTime": {
     "end_time": "2024-05-04T02:41:56.617724Z",
     "start_time": "2024-05-04T02:41:56.381165Z"
    }
   },
   "cell_type": "code",
   "source": [
    "import pandas as pd\n",
    "\n",
    "df = pd.read_csv('stock_news.csv')\n",
    "\n",
    "print(df.head())"
   ],
   "id": "ca2a1bebf75d1071",
   "outputs": [
    {
     "name": "stdout",
     "output_type": "stream",
     "text": [
      "   Unnamed: 0                                           headline     label\n",
      "0           0  Markets Close Mostly Lower Again; ROST, PANW R...  Negative\n",
      "1           1  Gap plummets on earnings miss, cuts full-year ...  Negative\n",
      "2           2  Billionaire Ken Fisher is Selling These 10 Stocks  Negative\n",
      "3           3          Corning net income drops 13%, shares fall  Negative\n",
      "4           4  Internet Explorer shutdown to cause Japan prob...  Negative\n"
     ]
    }
   ],
   "execution_count": 4
  },
  {
   "metadata": {
    "ExecuteTime": {
     "end_time": "2024-05-04T02:43:08.116801Z",
     "start_time": "2024-05-04T02:43:07.871324Z"
    }
   },
   "cell_type": "code",
   "source": [
    "print(df.columns)\n",
    "\n",
    "del df['Unnamed: 0']"
   ],
   "id": "8bc5265441931da",
   "outputs": [
    {
     "name": "stdout",
     "output_type": "stream",
     "text": [
      "Index(['headline', 'label'], dtype='object')\n"
     ]
    },
    {
     "ename": "KeyError",
     "evalue": "'Unnamed: 0'",
     "output_type": "error",
     "traceback": [
      "\u001B[0;31m---------------------------------------------------------------------------\u001B[0m",
      "\u001B[0;31mKeyError\u001B[0m                                  Traceback (most recent call last)",
      "File \u001B[0;32m~/Downloads/git/venv/lib/python3.12/site-packages/pandas/core/indexes/base.py:3805\u001B[0m, in \u001B[0;36mIndex.get_loc\u001B[0;34m(self, key)\u001B[0m\n\u001B[1;32m   3804\u001B[0m \u001B[38;5;28;01mtry\u001B[39;00m:\n\u001B[0;32m-> 3805\u001B[0m     \u001B[38;5;28;01mreturn\u001B[39;00m \u001B[38;5;28;43mself\u001B[39;49m\u001B[38;5;241;43m.\u001B[39;49m\u001B[43m_engine\u001B[49m\u001B[38;5;241;43m.\u001B[39;49m\u001B[43mget_loc\u001B[49m\u001B[43m(\u001B[49m\u001B[43mcasted_key\u001B[49m\u001B[43m)\u001B[49m\n\u001B[1;32m   3806\u001B[0m \u001B[38;5;28;01mexcept\u001B[39;00m \u001B[38;5;167;01mKeyError\u001B[39;00m \u001B[38;5;28;01mas\u001B[39;00m err:\n",
      "File \u001B[0;32mindex.pyx:167\u001B[0m, in \u001B[0;36mpandas._libs.index.IndexEngine.get_loc\u001B[0;34m()\u001B[0m\n",
      "File \u001B[0;32mindex.pyx:196\u001B[0m, in \u001B[0;36mpandas._libs.index.IndexEngine.get_loc\u001B[0;34m()\u001B[0m\n",
      "File \u001B[0;32mpandas/_libs/hashtable_class_helper.pxi:7081\u001B[0m, in \u001B[0;36mpandas._libs.hashtable.PyObjectHashTable.get_item\u001B[0;34m()\u001B[0m\n",
      "File \u001B[0;32mpandas/_libs/hashtable_class_helper.pxi:7089\u001B[0m, in \u001B[0;36mpandas._libs.hashtable.PyObjectHashTable.get_item\u001B[0;34m()\u001B[0m\n",
      "\u001B[0;31mKeyError\u001B[0m: 'Unnamed: 0'",
      "\nThe above exception was the direct cause of the following exception:\n",
      "\u001B[0;31mKeyError\u001B[0m                                  Traceback (most recent call last)",
      "Cell \u001B[0;32mIn[7], line 3\u001B[0m\n\u001B[1;32m      1\u001B[0m \u001B[38;5;28mprint\u001B[39m(df\u001B[38;5;241m.\u001B[39mcolumns)\n\u001B[0;32m----> 3\u001B[0m \u001B[38;5;28;01mdel\u001B[39;00m \u001B[43mdf\u001B[49m\u001B[43m[\u001B[49m\u001B[38;5;124;43m'\u001B[39;49m\u001B[38;5;124;43mUnnamed: 0\u001B[39;49m\u001B[38;5;124;43m'\u001B[39;49m\u001B[43m]\u001B[49m\n\u001B[1;32m      5\u001B[0m \u001B[38;5;28mprint\u001B[39m(df\u001B[38;5;241m.\u001B[39mcolumns)\n",
      "File \u001B[0;32m~/Downloads/git/venv/lib/python3.12/site-packages/pandas/core/generic.py:4506\u001B[0m, in \u001B[0;36mNDFrame.__delitem__\u001B[0;34m(self, key)\u001B[0m\n\u001B[1;32m   4501\u001B[0m             deleted \u001B[38;5;241m=\u001B[39m \u001B[38;5;28;01mTrue\u001B[39;00m\n\u001B[1;32m   4502\u001B[0m \u001B[38;5;28;01mif\u001B[39;00m \u001B[38;5;129;01mnot\u001B[39;00m deleted:\n\u001B[1;32m   4503\u001B[0m     \u001B[38;5;66;03m# If the above loop ran and didn't delete anything because\u001B[39;00m\n\u001B[1;32m   4504\u001B[0m     \u001B[38;5;66;03m# there was no match, this call should raise the appropriate\u001B[39;00m\n\u001B[1;32m   4505\u001B[0m     \u001B[38;5;66;03m# exception:\u001B[39;00m\n\u001B[0;32m-> 4506\u001B[0m     loc \u001B[38;5;241m=\u001B[39m \u001B[38;5;28;43mself\u001B[39;49m\u001B[38;5;241;43m.\u001B[39;49m\u001B[43maxes\u001B[49m\u001B[43m[\u001B[49m\u001B[38;5;241;43m-\u001B[39;49m\u001B[38;5;241;43m1\u001B[39;49m\u001B[43m]\u001B[49m\u001B[38;5;241;43m.\u001B[39;49m\u001B[43mget_loc\u001B[49m\u001B[43m(\u001B[49m\u001B[43mkey\u001B[49m\u001B[43m)\u001B[49m\n\u001B[1;32m   4507\u001B[0m     \u001B[38;5;28mself\u001B[39m\u001B[38;5;241m.\u001B[39m_mgr \u001B[38;5;241m=\u001B[39m \u001B[38;5;28mself\u001B[39m\u001B[38;5;241m.\u001B[39m_mgr\u001B[38;5;241m.\u001B[39midelete(loc)\n\u001B[1;32m   4509\u001B[0m \u001B[38;5;66;03m# delete from the caches\u001B[39;00m\n",
      "File \u001B[0;32m~/Downloads/git/venv/lib/python3.12/site-packages/pandas/core/indexes/base.py:3812\u001B[0m, in \u001B[0;36mIndex.get_loc\u001B[0;34m(self, key)\u001B[0m\n\u001B[1;32m   3807\u001B[0m     \u001B[38;5;28;01mif\u001B[39;00m \u001B[38;5;28misinstance\u001B[39m(casted_key, \u001B[38;5;28mslice\u001B[39m) \u001B[38;5;129;01mor\u001B[39;00m (\n\u001B[1;32m   3808\u001B[0m         \u001B[38;5;28misinstance\u001B[39m(casted_key, abc\u001B[38;5;241m.\u001B[39mIterable)\n\u001B[1;32m   3809\u001B[0m         \u001B[38;5;129;01mand\u001B[39;00m \u001B[38;5;28many\u001B[39m(\u001B[38;5;28misinstance\u001B[39m(x, \u001B[38;5;28mslice\u001B[39m) \u001B[38;5;28;01mfor\u001B[39;00m x \u001B[38;5;129;01min\u001B[39;00m casted_key)\n\u001B[1;32m   3810\u001B[0m     ):\n\u001B[1;32m   3811\u001B[0m         \u001B[38;5;28;01mraise\u001B[39;00m InvalidIndexError(key)\n\u001B[0;32m-> 3812\u001B[0m     \u001B[38;5;28;01mraise\u001B[39;00m \u001B[38;5;167;01mKeyError\u001B[39;00m(key) \u001B[38;5;28;01mfrom\u001B[39;00m \u001B[38;5;21;01merr\u001B[39;00m\n\u001B[1;32m   3813\u001B[0m \u001B[38;5;28;01mexcept\u001B[39;00m \u001B[38;5;167;01mTypeError\u001B[39;00m:\n\u001B[1;32m   3814\u001B[0m     \u001B[38;5;66;03m# If we have a listlike key, _check_indexing_error will raise\u001B[39;00m\n\u001B[1;32m   3815\u001B[0m     \u001B[38;5;66;03m#  InvalidIndexError. Otherwise we fall through and re-raise\u001B[39;00m\n\u001B[1;32m   3816\u001B[0m     \u001B[38;5;66;03m#  the TypeError.\u001B[39;00m\n\u001B[1;32m   3817\u001B[0m     \u001B[38;5;28mself\u001B[39m\u001B[38;5;241m.\u001B[39m_check_indexing_error(key)\n",
      "\u001B[0;31mKeyError\u001B[0m: 'Unnamed: 0'"
     ]
    }
   ],
   "execution_count": 7
  },
  {
   "metadata": {
    "ExecuteTime": {
     "end_time": "2024-05-04T02:47:51.214678Z",
     "start_time": "2024-05-04T02:47:50.937410Z"
    }
   },
   "cell_type": "code",
   "source": [
    "good = []\n",
    "bad = []\n",
    "neutral = []\n",
    "\n",
    "for index, row in df.iterrows():\n",
    "    if row['label'] == 'Positive':\n",
    "        good.append(row['headline'])\n",
    "    elif row['label'] == 'Negative':\n",
    "        bad.append(row['headline'])\n",
    "    elif row['label'] == 'Neutral':\n",
    "        neutral.append(row['headline'])"
   ],
   "id": "e0edd5562e7ff5e4",
   "outputs": [],
   "execution_count": 20
  },
  {
   "metadata": {
    "ExecuteTime": {
     "end_time": "2024-05-04T02:51:02.350346Z",
     "start_time": "2024-05-04T02:51:01.980126Z"
    }
   },
   "cell_type": "code",
   "source": [
    "from sklearn.feature_extraction.text import CountVectorizer\n",
    "from sklearn.feature_extraction.text import TfidfVectorizer\n",
    "import sklearn.svm as svm \n",
    "\n",
    "vC = CountVectorizer()\n",
    "\n",
    "vT = TfidfVectorizer()\n",
    "\n",
    "clf = svm.SVC(C=1.0, kernel='linear', degree=3, gamma='auto')"
   ],
   "id": "7f89137bcfba3b46",
   "outputs": [],
   "execution_count": 22
  },
  {
   "metadata": {
    "ExecuteTime": {
     "end_time": "2024-05-04T02:56:45.326245Z",
     "start_time": "2024-05-04T02:56:45.098906Z"
    }
   },
   "cell_type": "code",
   "source": [
    "goodC = vC.fit_transform(good)\n",
    "badC = vC.fit_transform(bad)\n",
    "neutralC = vC.fit_transform(neutral)\n",
    "\n",
    "goodT = vT.fit_transform(good)\n",
    "badT = vT.fit_transform(bad)\n",
    "neutralT = vT.fit_transform(neutral)"
   ],
   "id": "75711d5249881a57",
   "outputs": [],
   "execution_count": 28
  },
  {
   "metadata": {
    "ExecuteTime": {
     "end_time": "2024-05-04T02:55:36.663085Z",
     "start_time": "2024-05-04T02:55:36.655904Z"
    }
   },
   "cell_type": "code",
   "source": [
    "import nltk\n",
    "from nltk.sentiment.vader import SentimentIntensityAnalyzer\n",
    "\n",
    "nltk.download('vader_lexicon')\n",
    "\n",
    "sia = SentimentIntensityAnalyzer()"
   ],
   "id": "c91bda59a0ac4d99",
   "outputs": [
    {
     "name": "stderr",
     "output_type": "stream",
     "text": [
      "[nltk_data] Downloading package vader_lexicon to\n",
      "[nltk_data]     /Users/himme/nltk_data...\n",
      "[nltk_data]   Package vader_lexicon is already up-to-date!\n"
     ]
    }
   ],
   "execution_count": 25
  },
  {
   "metadata": {
    "ExecuteTime": {
     "end_time": "2024-05-04T02:55:42.041770Z",
     "start_time": "2024-05-04T02:55:40.882554Z"
    }
   },
   "cell_type": "code",
   "source": [
    "goodS = []\n",
    "\n",
    "for headline in good:\n",
    "    goodS.append(sia.polarity_scores(headline)['compound'])\n",
    "    \n",
    "badS = []\n",
    "\n",
    "for headline in bad:\n",
    "    badS.append(sia.polarity_scores(headline)['compound'])\n",
    "    \n",
    "neutralS = []\n",
    "\n",
    "for headline in neutral:\n",
    "    neutralS.append(sia.polarity_scores(headline)['compound'])"
   ],
   "id": "f1b2ea27c6023ef8",
   "outputs": [],
   "execution_count": 26
  },
  {
   "metadata": {
    "ExecuteTime": {
     "end_time": "2024-05-04T02:59:32.073351Z",
     "start_time": "2024-05-04T02:59:31.351934Z"
    }
   },
   "cell_type": "code",
   "source": [
    "import numpy as np\n",
    "\n",
    "goodFeatures = np.hstack((goodC.toarray(), goodT.toarray(), np.array(goodS).reshape(-1, 1)))\n",
    "\n",
    "badFeatures = np.hstack((badC.toarray(), badT.toarray(), np.array(badS).reshape(-1, 1)))\n",
    "\n",
    "neutralFeatures = np.hstack((neutralC.toarray(), neutralT.toarray(), np.array(neutralS).reshape(-1, 1)))"
   ],
   "id": "8a77e8398744c371",
   "outputs": [],
   "execution_count": 31
  },
  {
   "metadata": {},
   "cell_type": "code",
   "outputs": [],
   "execution_count": null,
   "source": [
    "numGood = len(goodFeatures)\n",
    "numBad = len(badFeatures)\n",
    "numNeutral = len(neutralFeatures)\n",
    "\n",
    "X = np.vstack((goodFeatures, badFeatures, neutralFeatures))"
   ],
   "id": "e400b048821c1485"
  }
 ],
 "metadata": {
  "kernelspec": {
   "display_name": "Python 3",
   "language": "python",
   "name": "python3"
  },
  "language_info": {
   "codemirror_mode": {
    "name": "ipython",
    "version": 2
   },
   "file_extension": ".py",
   "mimetype": "text/x-python",
   "name": "python",
   "nbconvert_exporter": "python",
   "pygments_lexer": "ipython2",
   "version": "2.7.6"
  }
 },
 "nbformat": 4,
 "nbformat_minor": 5
}
