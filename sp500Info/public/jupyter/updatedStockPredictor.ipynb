{
 "cells": [
  {
   "metadata": {},
   "cell_type": "code",
   "source": [
    "import pandas\n",
    "import yfinance as yf"
   ],
   "id": "fa5be66706e5c123",
   "execution_count": 310,
   "outputs": []
  },
  {
   "metadata": {
    "jupyter": {
     "is_executing": true
    }
   },
   "cell_type": "code",
   "source": "sp500 = yf.Ticker(\"^GSPC\")",
   "id": "d246f69792c396aa",
   "execution_count": null,
   "outputs": []
  },
  {
   "metadata": {
    "ExecuteTime": {
     "end_time": "2024-04-18T23:16:43.488964Z",
     "start_time": "2024-04-18T23:16:41.294043Z"
    }
   },
   "cell_type": "code",
   "source": "sp500 = sp500.history(period=\"max\")",
   "id": "fc9cfb54d5a32db2",
   "execution_count": 312,
   "outputs": []
  },
  {
   "metadata": {
    "ExecuteTime": {
     "end_time": "2024-04-18T23:16:43.539067Z",
     "start_time": "2024-04-18T23:16:43.493018Z"
    }
   },
   "cell_type": "code",
   "source": "sp500.index",
   "id": "1269aa0ef251d8f9",
   "execution_count": 313,
   "outputs": []
  },
  {
   "metadata": {
    "ExecuteTime": {
     "end_time": "2024-04-18T23:16:46.367113Z",
     "start_time": "2024-04-18T23:16:43.539067Z"
    }
   },
   "cell_type": "code",
   "source": [
    "\n",
    "sp500.plot.line(y=\"Close\", use_index=True)"
   ],
   "id": "2bf069284a4f67da",
   "execution_count": 314,
   "outputs": []
  },
  {
   "metadata": {
    "ExecuteTime": {
     "end_time": "2024-04-18T23:16:46.372771Z",
     "start_time": "2024-04-18T23:16:46.367113Z"
    }
   },
   "cell_type": "code",
   "source": [
    "del sp500[\"Dividends\"]\n",
    "del sp500[\"Stock Splits\"]"
   ],
   "id": "cb6085b5e09f984",
   "execution_count": 315,
   "outputs": []
  },
  {
   "metadata": {},
   "cell_type": "code",
   "source": "",
   "id": "162ddfb07488294c",
   "execution_count": 315,
   "outputs": []
  },
  {
   "metadata": {
    "ExecuteTime": {
     "end_time": "2024-04-18T23:16:46.388749Z",
     "start_time": "2024-04-18T23:16:46.377553Z"
    }
   },
   "cell_type": "code",
   "source": "sp500[\"Tomorrow\"] = sp500[\"Close\"].shift(-1)",
   "id": "cfb4796f18206252",
   "execution_count": 316,
   "outputs": []
  },
  {
   "metadata": {
    "ExecuteTime": {
     "end_time": "2024-04-18T23:16:46.481299Z",
     "start_time": "2024-04-18T23:16:46.388749Z"
    }
   },
   "cell_type": "code",
   "source": "sp500",
   "id": "dbec873fe8316d51",
   "execution_count": 317,
   "outputs": []
  },
  {
   "metadata": {
    "ExecuteTime": {
     "end_time": "2024-04-18T23:16:46.489844Z",
     "start_time": "2024-04-18T23:16:46.481299Z"
    }
   },
   "cell_type": "code",
   "source": "sp500[\"Target\"] = (sp500[\"Tomorrow\"] > sp500[\"Close\"]).astype(int)",
   "id": "71f7fc84d794f276",
   "execution_count": 318,
   "outputs": []
  },
  {
   "metadata": {
    "ExecuteTime": {
     "end_time": "2024-04-18T23:16:46.504550Z",
     "start_time": "2024-04-18T23:16:46.489844Z"
    }
   },
   "cell_type": "code",
   "source": "sp500",
   "id": "580c5ab60de0481e",
   "execution_count": 319,
   "outputs": []
  },
  {
   "metadata": {
    "ExecuteTime": {
     "end_time": "2024-04-18T23:16:46.536448Z",
     "start_time": "2024-04-18T23:16:46.507587Z"
    }
   },
   "cell_type": "code",
   "source": "sp500 = sp500.loc[\"1990-01-01\":].copy()",
   "id": "99037cc3dea2dbbf",
   "execution_count": 320,
   "outputs": []
  },
  {
   "metadata": {
    "ExecuteTime": {
     "end_time": "2024-04-18T23:16:46.558698Z",
     "start_time": "2024-04-18T23:16:46.536448Z"
    }
   },
   "cell_type": "code",
   "source": "sp500",
   "id": "72a3dbcdedc97e46",
   "execution_count": 321,
   "outputs": []
  },
  {
   "metadata": {
    "ExecuteTime": {
     "end_time": "2024-04-18T23:16:46.564250Z",
     "start_time": "2024-04-18T23:16:46.558698Z"
    }
   },
   "cell_type": "code",
   "source": "from sklearn.ensemble import RandomForestClassifier",
   "id": "c2a93ee05cd27d18",
   "execution_count": 322,
   "outputs": []
  },
  {
   "metadata": {
    "ExecuteTime": {
     "end_time": "2024-04-18T23:17:15.583151Z",
     "start_time": "2024-04-18T23:16:46.566308Z"
    }
   },
   "cell_type": "code",
   "source": [
    "model = RandomForestClassifier(n_estimators=1000, min_samples_split=100, random_state=1)\n",
    "\n",
    "train = sp500.iloc[:-100]\n",
    "test = sp500.iloc[-100:]\n",
    "\n",
    "predictors = [\"Close\", \"Volume\", \"Open\", \"High\", \"Low\"]\n",
    "model.fit(train[predictors], train[\"Target\"])"
   ],
   "id": "4bdaa1e488c9a5b8",
   "execution_count": 323,
   "outputs": []
  },
  {
   "metadata": {
    "ExecuteTime": {
     "end_time": "2024-04-18T23:17:15.595883Z",
     "start_time": "2024-04-18T23:17:15.583151Z"
    }
   },
   "cell_type": "code",
   "source": [
    "def predict(train, test, predictors, model):\n",
    "    model.fit(train[predictors], train[\"Target\"])\n",
    "    preds = model.predict(test[predictors])\n",
    "    preds = pd.Series(preds, index = test.index, name = \"Predictions\")\n",
    "    combined = pd.concat([test[\"Target\"], preds], axis = 1)\n",
    "    return combined"
   ],
   "id": "3dcaad409a0566ab",
   "execution_count": 324,
   "outputs": []
  },
  {
   "metadata": {
    "ExecuteTime": {
     "end_time": "2024-04-18T23:17:15.609365Z",
     "start_time": "2024-04-18T23:17:15.597415Z"
    }
   },
   "cell_type": "code",
   "source": [
    "def backtest(data, model, predictors, start=2500, step = 250):\n",
    "    all_predictions = []\n",
    "    \n",
    "    for i in range(start, data.shape[0], step):\n",
    "        train = data.iloc[0:i].copy();\n",
    "        test = data.iloc[i:(i+step)].copy();\n",
    "        predictions = predict(train, test, predictors, model)\n",
    "        all_predictions.append(predictions)\n",
    "    return pd.concat(all_predictions);"
   ],
   "id": "c775ceaf9500acb4",
   "execution_count": 325,
   "outputs": []
  },
  {
   "metadata": {
    "ExecuteTime": {
     "end_time": "2024-04-18T23:17:15.687675Z",
     "start_time": "2024-04-18T23:17:15.609365Z"
    }
   },
   "cell_type": "code",
   "source": [
    "horizons = [2,5,60,250,1000]\n",
    "new_predictors = []\n",
    "\n",
    "for horizon in horizons:\n",
    "    rolling_averages = sp500.rolling(horizon).mean()\n",
    "    \n",
    "    ratio_column = f\"Close_Ratio_{horizon}\"\n",
    "    sp500[ratio_column] = sp500[\"Close\"] / rolling_averages[\"Close\"]\n",
    "    \n",
    "    trend_column = f\"Trend_{horizon}\"\n",
    "    sp500[trend_column] = sp500.shift(1).rolling(horizon).sum()[\"Target\"]\n",
    "    \n",
    "    new_predictors += [ratio_column, trend_column]"
   ],
   "id": "1bc2dd174fc10190",
   "execution_count": 326,
   "outputs": []
  },
  {
   "metadata": {
    "ExecuteTime": {
     "end_time": "2024-04-18T23:17:18.991716Z",
     "start_time": "2024-04-18T23:17:15.688708Z"
    }
   },
   "cell_type": "code",
   "source": [
    "\n",
    "\n",
    "# Define the ticker symbols for the companies\n",
    "tickers = ['AAPL', 'MSFT', 'JNJ', 'AMZN', 'GOOGL','BRK-A']\n",
    "\n",
    "# Use a dictionary comprehension to create a dictionary where the keys are the ticker symbols and the values are the corresponding dataload\n",
    "stocks = {ticker: yf.Ticker(ticker).history(period=\"max\") for ticker in tickers}\n",
    "\n",
    "# Now you can access the dataload for a specific stock like this:\n",
    "apple_data = stocks['AAPL']\n",
    "microsoft_data = stocks['MSFT']\n",
    "jnj_data = stocks['JNJ']\n",
    "amazon_data = stocks['AMZN']\n",
    "alphabet_data = stocks['GOOGL']\n",
    "berkshire_data = stocks['BRK-A']\n",
    "\n",
    "apple_data = apple_data.loc[\"1990-01-01\":].copy()\n",
    "microsoft_data = microsoft_data.loc[\"1990-01-01\":].copy()\n",
    "jnj_data = jnj_data.loc[\"1990-01-01\":].copy()\n",
    "amazon_data = amazon_data.loc[\"1990-01-01\":].copy()\n",
    "alphabet_data = alphabet_data.loc[\"1990-01-01\":].copy()\n",
    "berkshire_data = berkshire_data.loc[\"1990-01-01\":].copy()"
   ],
   "id": "336ad697ea0c9530",
   "execution_count": 327,
   "outputs": []
  },
  {
   "metadata": {
    "ExecuteTime": {
     "end_time": "2024-04-18T23:17:20.029239Z",
     "start_time": "2024-04-18T23:17:18.991716Z"
    }
   },
   "cell_type": "code",
   "source": [
    "import pandas as pd\n",
    "import numpy as np\n",
    "\n",
    "# Calculate the daily price change for each company\n",
    "for ticker, data in stocks.items():\n",
    "    data['Price Change'] = np.sign(data['Close'] - data['Open'])\n",
    "\n",
    "# Concatenate all the 'Price Change' series into one DataFrame with dates\n",
    "all_price_changes = pd.concat([data.reset_index()[['Date', 'Price Change']] for data in stocks.values()])\n",
    "\n",
    "# Group by date and calculate the mode of the price changes for each day\n",
    "mode_price_change = all_price_changes.groupby('Date')['Price Change'].apply(lambda x: x.mode()[0])\n",
    "\n",
    "# Merge the mode price change into the sp500 DataFrame\n",
    "sp500 = sp500.merge(mode_price_change.rename('Mode Price Change'), left_index=True, right_index=True, how='left')"
   ],
   "id": "4e2a6d15745f91ce",
   "execution_count": 328,
   "outputs": []
  },
  {
   "metadata": {
    "ExecuteTime": {
     "end_time": "2024-04-18T23:17:20.064226Z",
     "start_time": "2024-04-18T23:17:20.029743Z"
    }
   },
   "cell_type": "code",
   "source": "sp500",
   "id": "63f83c210b72ba28",
   "execution_count": 329,
   "outputs": []
  },
  {
   "metadata": {
    "ExecuteTime": {
     "end_time": "2024-04-18T23:17:20.077224Z",
     "start_time": "2024-04-18T23:17:20.064226Z"
    }
   },
   "cell_type": "code",
   "source": [
    "horizons = [2, 5, 60, 250, 1000]\n",
    "for horizon in horizons:\n",
    "    trend_key_change = f'Trend_Key_Change_{horizon}'\n",
    "    sp500[trend_key_change] = sp500['Mode Price Change'].shift(1).rolling(horizon).sum()\n",
    "    new_predictors.append(trend_key_change)"
   ],
   "id": "d907056bd085e68b",
   "execution_count": 330,
   "outputs": []
  },
  {
   "metadata": {
    "ExecuteTime": {
     "end_time": "2024-04-18T23:17:20.107058Z",
     "start_time": "2024-04-18T23:17:20.077224Z"
    }
   },
   "cell_type": "code",
   "source": "sp500",
   "id": "69538be3a39bcbe6",
   "execution_count": 331,
   "outputs": []
  },
  {
   "metadata": {
    "ExecuteTime": {
     "end_time": "2024-04-18T23:17:20.113601Z",
     "start_time": "2024-04-18T23:17:20.107058Z"
    }
   },
   "cell_type": "code",
   "source": "new_predictors",
   "id": "c2de88be2cabae1",
   "execution_count": 332,
   "outputs": []
  },
  {
   "metadata": {
    "ExecuteTime": {
     "end_time": "2024-04-18T23:17:20.126353Z",
     "start_time": "2024-04-18T23:17:20.113601Z"
    }
   },
   "cell_type": "code",
   "source": "sp500 = sp500.dropna()",
   "id": "a6760bd4cdeed80c",
   "execution_count": 333,
   "outputs": []
  },
  {
   "metadata": {
    "ExecuteTime": {
     "end_time": "2024-04-18T23:17:20.159137Z",
     "start_time": "2024-04-18T23:17:20.129861Z"
    }
   },
   "cell_type": "code",
   "source": "sp500",
   "id": "328242e66ebfafb3",
   "execution_count": 334,
   "outputs": []
  },
  {
   "metadata": {
    "ExecuteTime": {
     "end_time": "2024-04-18T23:17:20.163706Z",
     "start_time": "2024-04-18T23:17:20.159137Z"
    }
   },
   "cell_type": "code",
   "source": "model = RandomForestClassifier(n_estimators = 1000, min_samples_split = 50, random_state = 1)",
   "id": "eea170cc5b81bc89",
   "execution_count": 335,
   "outputs": []
  },
  {
   "metadata": {
    "ExecuteTime": {
     "end_time": "2024-04-18T23:17:20.177797Z",
     "start_time": "2024-04-18T23:17:20.163706Z"
    }
   },
   "cell_type": "code",
   "source": [
    "def predict(train, test, predictors, model):\n",
    "    model.fit(train[predictors], train[\"Target\"])\n",
    "    preds = model.predict_proba(test[predictors])[:,1]\n",
    "    preds[preds >= 0.6] = 1\n",
    "    preds[preds < 0.6] = 0\n",
    "    preds = pd.Series(preds, index = test.index, name = \"Predictions\")\n",
    "    combined = pd.concat([test[\"Target\"], preds], axis = 1)\n",
    "    return combined"
   ],
   "id": "73a15653b0905b79",
   "execution_count": 336,
   "outputs": []
  },
  {
   "metadata": {
    "ExecuteTime": {
     "end_time": "2024-04-18T23:20:10.355622Z",
     "start_time": "2024-04-18T23:17:20.177797Z"
    }
   },
   "cell_type": "code",
   "source": "predictions = backtest(sp500, model, new_predictors)",
   "id": "20d0ebccb337bb50",
   "execution_count": 337,
   "outputs": []
  },
  {
   "metadata": {
    "ExecuteTime": {
     "end_time": "2024-04-18T23:20:10.544565Z",
     "start_time": "2024-04-18T23:20:10.371255Z"
    }
   },
   "cell_type": "code",
   "source": "predictions",
   "id": "35b8442aa98248a2",
   "execution_count": 338,
   "outputs": []
  },
  {
   "metadata": {
    "ExecuteTime": {
     "end_time": "2024-04-18T23:20:10.591426Z",
     "start_time": "2024-04-18T23:20:10.545588Z"
    }
   },
   "cell_type": "code",
   "source": "predictions[\"Predictions\"].value_counts()",
   "id": "59ea0d33d23f9d9",
   "execution_count": 339,
   "outputs": []
  },
  {
   "metadata": {
    "ExecuteTime": {
     "end_time": "2024-04-18T23:20:10.622688Z",
     "start_time": "2024-04-18T23:20:10.591426Z"
    }
   },
   "cell_type": "code",
   "source": "from sklearn.metrics import precision_score",
   "id": "57c0ff8178cb28eb",
   "execution_count": 340,
   "outputs": []
  },
  {
   "metadata": {
    "ExecuteTime": {
     "end_time": "2024-04-18T23:20:10.686377Z",
     "start_time": "2024-04-18T23:20:10.622688Z"
    }
   },
   "cell_type": "code",
   "source": "precision_score(predictions[\"Target\"], predictions[\"Predictions\"])",
   "id": "71113195edc35108",
   "execution_count": 341,
   "outputs": []
  },
  {
   "metadata": {
    "ExecuteTime": {
     "end_time": "2024-04-18T23:20:10.710449Z",
     "start_time": "2024-04-18T23:20:10.686377Z"
    }
   },
   "cell_type": "code",
   "source": "tomorrow_data = sp500.iloc[-2000:].copy()",
   "id": "3b435dc06003a5bf",
   "execution_count": 342,
   "outputs": []
  },
  {
   "metadata": {
    "ExecuteTime": {
     "end_time": "2024-04-19T03:25:56.972424Z",
     "start_time": "2024-04-19T03:25:56.672964Z"
    }
   },
   "cell_type": "code",
   "source": "tomorrow_prediction = model.predict_proba(tomorrow_data[new_predictors])",
   "id": "a93e27b9c9a8bde7",
   "execution_count": 1,
   "outputs": []
  },
  {
   "metadata": {
    "ExecuteTime": {
     "end_time": "2024-04-18T23:20:10.938309Z",
     "start_time": "2024-04-18T23:20:10.912931Z"
    }
   },
   "cell_type": "code",
   "source": "tomorrow_prediction",
   "id": "2abf9d6f5802e909",
   "execution_count": 344,
   "outputs": []
  },
  {
   "metadata": {
    "ExecuteTime": {
     "end_time": "2024-04-18T23:20:10.949274Z",
     "start_time": "2024-04-18T23:20:10.943815Z"
    }
   },
   "cell_type": "code",
   "source": "tomorrow_prediction[:, 1] = (tomorrow_prediction[:, 1] >= 0.57).astype(int)",
   "id": "fd5f94e84d1184ad",
   "execution_count": 345,
   "outputs": []
  },
  {
   "metadata": {
    "ExecuteTime": {
     "end_time": "2024-04-18T23:20:10.965050Z",
     "start_time": "2024-04-18T23:20:10.960680Z"
    }
   },
   "cell_type": "code",
   "source": "tomorrow_prediction",
   "id": "d99826167e9b9f6a",
   "execution_count": 346,
   "outputs": []
  },
  {
   "metadata": {
    "ExecuteTime": {
     "end_time": "2024-04-18T23:20:11.301118Z",
     "start_time": "2024-04-18T23:20:10.973661Z"
    }
   },
   "cell_type": "code",
   "source": [
    "import pickle\n",
    "\n",
    "with open(\"updatedSPmodel.pkl\", \"wb\") as f:\n",
    "    pickle.dump(model, f)"
   ],
   "id": "b6012ea63e301fdc",
   "execution_count": 347,
   "outputs": []
  },
  {
   "metadata": {},
   "cell_type": "code",
   "execution_count": null,
   "source": "",
   "id": "264bc4e92cfc403",
   "outputs": []
  }
 ],
 "metadata": {
  "kernelspec": {
   "display_name": "Python 3",
   "language": "python",
   "name": "python3"
  },
  "language_info": {
   "codemirror_mode": {
    "name": "ipython",
    "version": 2
   },
   "file_extension": ".py",
   "mimetype": "text/x-python",
   "name": "python",
   "nbconvert_exporter": "python",
   "pygments_lexer": "ipython2",
   "version": "2.7.6"
  }
 },
 "nbformat": 4,
 "nbformat_minor": 5
}
