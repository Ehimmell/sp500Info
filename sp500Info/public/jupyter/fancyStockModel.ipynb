{
 "cells": [
  {
   "cell_type": "code",
   "id": "initial_id",
   "metadata": {
    "collapsed": true,
    "ExecuteTime": {
     "end_time": "2024-05-16T03:16:54.767794Z",
     "start_time": "2024-05-16T03:16:54.765340Z"
    }
   },
   "source": "import yfinance as yf",
   "execution_count": 250,
   "outputs": []
  },
  {
   "metadata": {
    "ExecuteTime": {
     "end_time": "2024-05-16T03:16:54.806419Z",
     "start_time": "2024-05-16T03:16:54.804518Z"
    }
   },
   "cell_type": "code",
   "source": [
    "ticker = '^GSPC'\n",
    "\n",
    "sp500 = yf.Ticker(ticker)"
   ],
   "id": "c8fd23878ca39c70",
   "execution_count": 251,
   "outputs": []
  },
  {
   "metadata": {
    "ExecuteTime": {
     "end_time": "2024-05-16T03:16:55.202853Z",
     "start_time": "2024-05-16T03:16:54.822540Z"
    }
   },
   "cell_type": "code",
   "source": "sp500 = sp500.history(period='20y')",
   "id": "f520d4aaef3208a1",
   "execution_count": 252,
   "outputs": []
  },
  {
   "metadata": {
    "ExecuteTime": {
     "end_time": "2024-05-16T03:16:55.296843Z",
     "start_time": "2024-05-16T03:16:55.204341Z"
    }
   },
   "cell_type": "code",
   "source": [
    "import matplotlib.pyplot as plt\n",
    "\n",
    "plt.plot(sp500['Close'])"
   ],
   "id": "84a1262b0d119e6d",
   "execution_count": 253,
   "outputs": []
  },
  {
   "metadata": {
    "ExecuteTime": {
     "end_time": "2024-05-16T03:16:55.299387Z",
     "start_time": "2024-05-16T03:16:55.297385Z"
    }
   },
   "cell_type": "code",
   "source": [
    "sp500['Tomorrow'] = sp500['Close'].shift(-1)\n",
    "sp500['Target'] = sp500['Tomorrow'] > sp500['Close']"
   ],
   "id": "45e837711180ad5b",
   "execution_count": 254,
   "outputs": []
  },
  {
   "metadata": {
    "ExecuteTime": {
     "end_time": "2024-05-16T03:16:55.384478Z",
     "start_time": "2024-05-16T03:16:55.300801Z"
    }
   },
   "cell_type": "code",
   "source": [
    "plt.clf()\n",
    "\n",
    "plt.plot(sp500['Tomorrow'])"
   ],
   "id": "53c58b05d0573c8",
   "execution_count": 255,
   "outputs": []
  },
  {
   "metadata": {
    "ExecuteTime": {
     "end_time": "2024-05-16T03:16:55.388227Z",
     "start_time": "2024-05-16T03:16:55.385148Z"
    }
   },
   "cell_type": "code",
   "source": [
    "sp500 = sp500.dropna()\n",
    "\n",
    "del sp500['Volume']"
   ],
   "id": "6c62d133c2d200ab",
   "execution_count": 256,
   "outputs": []
  },
  {
   "metadata": {
    "ExecuteTime": {
     "end_time": "2024-05-16T03:16:55.391976Z",
     "start_time": "2024-05-16T03:16:55.389154Z"
    }
   },
   "cell_type": "code",
   "source": [
    "timesteps = 10\n",
    "\n",
    "features = sp500.shape[1] - 1\n",
    "\n",
    "y = sp500.drop(columns=\"Target\").values\n",
    "\n",
    "num_samples = y.shape[0] // timesteps\n",
    "\n",
    "y = y[:num_samples*timesteps]\n",
    "\n",
    "y = y.reshape((num_samples, timesteps, features))"
   ],
   "id": "abcc37127e9044b7",
   "execution_count": 257,
   "outputs": []
  },
  {
   "metadata": {
    "ExecuteTime": {
     "end_time": "2024-05-16T03:16:55.411852Z",
     "start_time": "2024-05-16T03:16:55.393219Z"
    }
   },
   "cell_type": "code",
   "source": [
    "from tensorflow.keras.models import Sequential\n",
    "from tensorflow.keras.layers import LSTM, Dense, Input\n",
    "\n",
    "seq = Sequential()\n",
    "\n",
    "seq.add(Input(shape=(timesteps, features)))\n",
    "seq.add(LSTM(50, return_sequences=True))\n",
    "seq.add(LSTM(50, return_sequences=True))\n",
    "seq.add(LSTM(50))\n",
    "seq.add(Dense(1, activation='sigmoid'))\n",
    "\n",
    "seq.compile(optimizer='adam', loss='mean_squared_error', metrics=['accuracy'])"
   ],
   "id": "20a6ec6d942c7392",
   "execution_count": 258,
   "outputs": []
  },
  {
   "metadata": {
    "ExecuteTime": {
     "end_time": "2024-05-16T03:16:57.969924Z",
     "start_time": "2024-05-16T03:16:55.412333Z"
    }
   },
   "cell_type": "code",
   "source": "seq.fit(y, sp500['Target'].values[:num_samples*timesteps].reshape((num_samples, timesteps, 1)), epochs=100, batch_size=128, validation_split=0.05)",
   "id": "3b7f0dbc2f509075",
   "execution_count": 259,
   "outputs": []
  },
  {
   "metadata": {
    "ExecuteTime": {
     "end_time": "2024-05-16T06:37:25.624467Z",
     "start_time": "2024-05-16T06:37:25.417267Z"
    }
   },
   "cell_type": "code",
   "source": [
    "import yfinance as yf\n",
    "ticker = '^GSPC'\n",
    "sp500 = yf.Ticker(ticker)\n",
    "sp500 = sp500.history(period='20y')\n"
   ],
   "id": "644a8ebe28570289",
   "execution_count": 76,
   "outputs": []
  },
  {
   "metadata": {
    "ExecuteTime": {
     "end_time": "2024-05-16T06:37:25.627429Z",
     "start_time": "2024-05-16T06:37:25.625277Z"
    }
   },
   "cell_type": "code",
   "source": "sp500 = sp500.reset_index()['Close']",
   "id": "f6f9d31e08b06c05",
   "execution_count": 77,
   "outputs": []
  },
  {
   "metadata": {
    "ExecuteTime": {
     "end_time": "2024-05-16T06:37:25.676141Z",
     "start_time": "2024-05-16T06:37:25.627968Z"
    }
   },
   "cell_type": "code",
   "source": [
    "import matplotlib.pyplot as plt\n",
    "plt.plot(sp500)"
   ],
   "id": "500cd8fdcf476a38",
   "execution_count": 78,
   "outputs": []
  },
  {
   "metadata": {
    "ExecuteTime": {
     "end_time": "2024-05-16T06:37:25.681893Z",
     "start_time": "2024-05-16T06:37:25.678734Z"
    }
   },
   "cell_type": "code",
   "source": [
    "from sklearn.preprocessing import MinMaxScaler\n",
    "import numpy as np\n",
    "\n",
    "scaler = MinMaxScaler()\n",
    "\n",
    "sp500 = scaler.fit_transform(np.array(sp500).reshape(-1, 1))"
   ],
   "id": "e1f4c29289b52c6c",
   "execution_count": 79,
   "outputs": []
  },
  {
   "metadata": {
    "ExecuteTime": {
     "end_time": "2024-05-16T06:37:25.686501Z",
     "start_time": "2024-05-16T06:37:25.683071Z"
    }
   },
   "cell_type": "code",
   "source": "sp500.shape",
   "id": "cc44203d71de49ae",
   "execution_count": 80,
   "outputs": []
  },
  {
   "metadata": {
    "ExecuteTime": {
     "end_time": "2024-05-16T06:37:25.689409Z",
     "start_time": "2024-05-16T06:37:25.687558Z"
    }
   },
   "cell_type": "code",
   "source": [
    "train_size = int(len(sp500) * 0.8)\n",
    "test_size = len(sp500) - train_size\n",
    "\n",
    "train, test = sp500[0:train_size,:], sp500[train_size:len(sp500),:]"
   ],
   "id": "c54b860ac9903e56",
   "execution_count": 81,
   "outputs": []
  },
  {
   "metadata": {
    "ExecuteTime": {
     "end_time": "2024-05-16T06:37:25.861690Z",
     "start_time": "2024-05-16T06:37:25.689878Z"
    }
   },
   "cell_type": "code",
   "source": [
    "plt.clf()\n",
    "plt.plot(train)"
   ],
   "id": "683ca6913e3f56c3",
   "execution_count": 82,
   "outputs": []
  },
  {
   "metadata": {
    "ExecuteTime": {
     "end_time": "2024-05-16T06:37:25.864493Z",
     "start_time": "2024-05-16T06:37:25.862617Z"
    }
   },
   "cell_type": "code",
   "source": "import numpy as np",
   "id": "711c3328eddf33e9",
   "execution_count": 83,
   "outputs": []
  },
  {
   "metadata": {
    "ExecuteTime": {
     "end_time": "2024-05-16T06:37:25.868018Z",
     "start_time": "2024-05-16T06:37:25.865548Z"
    }
   },
   "cell_type": "code",
   "source": [
    "def createDataSet(dataset, timesteps=1):\n",
    "    dataX, dataY = [], []\n",
    "    for i in range(len(dataset)-timesteps-1):\n",
    "        a = dataset[i:(i+timesteps), 0]\n",
    "        dataX.append(a)\n",
    "        dataY.append(dataset[i + timesteps, 0])\n",
    "    return np.array(dataX), np.array(dataY)"
   ],
   "id": "fcc9292568ba0418",
   "execution_count": 84,
   "outputs": []
  },
  {
   "metadata": {
    "ExecuteTime": {
     "end_time": "2024-05-16T06:37:25.875853Z",
     "start_time": "2024-05-16T06:37:25.870798Z"
    }
   },
   "cell_type": "code",
   "source": [
    "time_step=100\n",
    "trainX, trainY = createDataSet(train, time_step)\n",
    "testX, testY = createDataSet(test, time_step)"
   ],
   "id": "3983dcde49a26a3f",
   "execution_count": 85,
   "outputs": []
  },
  {
   "metadata": {
    "ExecuteTime": {
     "end_time": "2024-05-16T06:37:25.897244Z",
     "start_time": "2024-05-16T06:37:25.876552Z"
    }
   },
   "cell_type": "code",
   "source": [
    "from tensorflow.keras.models import Sequential\n",
    "from tensorflow.keras.layers import LSTM, Dense, Input, Dropout\n",
    "from tensorflow.keras.callbacks import EarlyStopping\n",
    "\n",
    "seq = Sequential()\n",
    "seq.add(LSTM(50, recurrent_dropout=0.06, input_shape=(trainX.shape[1],1), return_sequences=True))\n",
    "seq.add(LSTM(50, return_sequences=True))\n",
    "seq.add(LSTM(50))\n",
    "seq.add(Dense(1))\n",
    "\n",
    "\n",
    "seq.compile(optimizer='adam', loss='mean_squared_error', metrics=['accuracy'])"
   ],
   "id": "129f5dd9e2cd045b",
   "execution_count": 86,
   "outputs": []
  },
  {
   "metadata": {
    "ExecuteTime": {
     "end_time": "2024-05-16T06:37:25.904584Z",
     "start_time": "2024-05-16T06:37:25.898371Z"
    }
   },
   "cell_type": "code",
   "source": "seq.summary()",
   "id": "4b754ce4a0e4fae3",
   "execution_count": 87,
   "outputs": []
  },
  {
   "metadata": {
    "ExecuteTime": {
     "end_time": "2024-05-16T06:40:43.256390Z",
     "start_time": "2024-05-16T06:37:25.905372Z"
    }
   },
   "cell_type": "code",
   "source": "seq.fit(trainX, trainY, epochs=110, batch_size=64, verbose=1, callbacks=[EarlyStopping(monitor='loss', patience=5)])",
   "id": "7f5fdcb73d35a08b",
   "execution_count": 88,
   "outputs": []
  },
  {
   "metadata": {
    "ExecuteTime": {
     "end_time": "2024-05-16T06:40:43.259047Z",
     "start_time": "2024-05-16T06:40:43.256952Z"
    }
   },
   "cell_type": "code",
   "source": [
    "\n",
    "testX.shape"
   ],
   "id": "218019ef046f0e64",
   "execution_count": 89,
   "outputs": []
  },
  {
   "metadata": {
    "ExecuteTime": {
     "end_time": "2024-05-16T06:40:44.911232Z",
     "start_time": "2024-05-16T06:40:43.259523Z"
    }
   },
   "cell_type": "code",
   "source": [
    "trainPredict = seq.predict(trainX)\n",
    "testPredict = seq.predict(testX)\n"
   ],
   "id": "f7e4b4caad08873f",
   "execution_count": 90,
   "outputs": []
  },
  {
   "metadata": {
    "ExecuteTime": {
     "end_time": "2024-05-16T06:40:44.913250Z",
     "start_time": "2024-05-16T06:40:44.911828Z"
    }
   },
   "cell_type": "code",
   "source": [
    "from sklearn.metrics import mean_squared_error\n",
    "import math"
   ],
   "id": "d5130134683a07b4",
   "execution_count": 91,
   "outputs": []
  },
  {
   "metadata": {
    "ExecuteTime": {
     "end_time": "2024-05-16T06:40:44.915722Z",
     "start_time": "2024-05-16T06:40:44.913846Z"
    }
   },
   "cell_type": "code",
   "source": "trainPredict.shape",
   "id": "9e751071eb41aebf",
   "execution_count": 92,
   "outputs": []
  },
  {
   "metadata": {
    "ExecuteTime": {
     "end_time": "2024-05-16T06:40:44.918188Z",
     "start_time": "2024-05-16T06:40:44.916262Z"
    }
   },
   "cell_type": "code",
   "source": "trainPredict = scaler.inverse_transform(trainPredict)",
   "id": "8c28aca72c80fc9f",
   "execution_count": 93,
   "outputs": []
  },
  {
   "metadata": {
    "ExecuteTime": {
     "end_time": "2024-05-16T06:40:44.920151Z",
     "start_time": "2024-05-16T06:40:44.918778Z"
    }
   },
   "cell_type": "code",
   "source": "testPredict = scaler.inverse_transform(testPredict)",
   "id": "49242d9b9bdf22f4",
   "execution_count": 94,
   "outputs": []
  },
  {
   "metadata": {
    "ExecuteTime": {
     "end_time": "2024-05-16T06:40:44.922742Z",
     "start_time": "2024-05-16T06:40:44.920651Z"
    }
   },
   "cell_type": "code",
   "source": [
    "print(math.sqrt(mean_squared_error(trainY, trainPredict[:,0])))\n",
    "print(math.sqrt(mean_squared_error(testY, testPredict[:,0])))"
   ],
   "id": "78919cc464532226",
   "execution_count": 95,
   "outputs": []
  },
  {
   "metadata": {
    "ExecuteTime": {
     "end_time": "2024-05-16T06:40:44.925264Z",
     "start_time": "2024-05-16T06:40:44.923201Z"
    }
   },
   "cell_type": "code",
   "source": [
    "look = 100\n",
    "\n",
    "trainPredictPlot = np.empty_like(sp500)\n",
    "trainPredictPlot[:, :] = np.nan\n",
    "trainPredictPlot[look:len(trainPredict)+look, :] = trainPredict\n",
    "\n",
    "testPredictPlot = np.empty_like(sp500)\n",
    "testPredictPlot[:, :] = np.nan\n",
    "testPredictPlot[len(trainPredict)+(look*2)+1:len(sp500)-1, :] = testPredict\n"
   ],
   "id": "7c34190bbec62011",
   "execution_count": 96,
   "outputs": []
  },
  {
   "metadata": {
    "ExecuteTime": {
     "end_time": "2024-05-16T06:40:44.975808Z",
     "start_time": "2024-05-16T06:40:44.925819Z"
    }
   },
   "cell_type": "code",
   "source": [
    "plt.plot(scaler.inverse_transform(sp500))\n",
    "plt.plot(trainPredictPlot)\n",
    "plt.plot(testPredictPlot)"
   ],
   "id": "c025b4ec3d6bd37f",
   "execution_count": 97,
   "outputs": []
  },
  {
   "metadata": {
    "ExecuteTime": {
     "end_time": "2024-05-16T06:40:45.037842Z",
     "start_time": "2024-05-16T06:40:44.976415Z"
    }
   },
   "cell_type": "code",
   "source": [
    "import matplotlib.pyplot as plt\n",
    "from mpl_toolkits.mplot3d import Axes3D\n",
    "import numpy as np\n",
    "\n",
    "# Create a 3D plot\n",
    "fig = plt.figure()\n",
    "ax = fig.add_subplot(111, projection='3d')\n",
    "\n",
    "# Create a time array\n",
    "time = np.arange(testX.shape[0])\n",
    "\n",
    "# Plot the actual values\n",
    "ax.scatter(time, testX[:,0], np.zeros_like(testX[:,0]), color='b')\n",
    "\n",
    "# Plot the predicted values\n",
    "ax.scatter(time, np.zeros_like(testPredict[:,0]), testPredict[:,0], color='r')\n",
    "\n",
    "ax.set_xlabel('Time')\n",
    "ax.set_ylabel('Actual Values')\n",
    "ax.set_zlabel('Predicted Values')\n",
    "\n",
    "plt.show()"
   ],
   "id": "a129ba46877f32e5",
   "execution_count": 98,
   "outputs": []
  },
  {
   "metadata": {
    "ExecuteTime": {
     "end_time": "2024-05-16T06:40:45.088060Z",
     "start_time": "2024-05-16T06:40:45.038646Z"
    }
   },
   "cell_type": "code",
   "source": [
    "plt.clf()\n",
    "plt.plot(testPredict, c='r')\n",
    "plt.plot(scaler.inverse_transform(testX[:,0].reshape(-1, 1)))"
   ],
   "id": "4c8c2cdb0e806fee",
   "execution_count": 99,
   "outputs": []
  },
  {
   "metadata": {
    "ExecuteTime": {
     "end_time": "2024-05-16T06:41:24.287891Z",
     "start_time": "2024-05-16T06:41:24.285933Z"
    }
   },
   "cell_type": "code",
   "source": "import pickle as p",
   "id": "b30350ba87a3b7c",
   "execution_count": 102,
   "outputs": []
  },
  {
   "metadata": {
    "ExecuteTime": {
     "end_time": "2024-05-16T06:41:25.682277Z",
     "start_time": "2024-05-16T06:41:25.679763Z"
    }
   },
   "cell_type": "code",
   "source": "p.dump(scaler, open('vectorizers/scaler.pkl', 'wb'))",
   "id": "eb395a5906d8ce7e",
   "execution_count": 103,
   "outputs": []
  },
  {
   "metadata": {
    "ExecuteTime": {
     "end_time": "2024-05-16T06:42:27.323271Z",
     "start_time": "2024-05-16T06:42:27.309878Z"
    }
   },
   "cell_type": "code",
   "source": "seq.save('stockLSTM.keras')",
   "id": "3707dd16e87b0dee",
   "execution_count": 105,
   "outputs": []
  },
  {
   "metadata": {
    "ExecuteTime": {
     "end_time": "2024-05-16T06:47:44.989515Z",
     "start_time": "2024-05-16T06:47:44.525282Z"
    }
   },
   "cell_type": "code",
   "source": "sp500 = yf.Ticker('^GSPC').history('20y')",
   "id": "85a65f26aeb40de1",
   "execution_count": 106,
   "outputs": []
  },
  {
   "metadata": {
    "ExecuteTime": {
     "end_time": "2024-05-16T06:47:49.905125Z",
     "start_time": "2024-05-16T06:47:49.898489Z"
    }
   },
   "cell_type": "code",
   "source": "sp500",
   "id": "203d216889ce4dba",
   "execution_count": 107,
   "outputs": []
  }
 ],
 "metadata": {
  "kernelspec": {
   "display_name": "Python 3",
   "language": "python",
   "name": "python3"
  },
  "language_info": {
   "codemirror_mode": {
    "name": "ipython",
    "version": 2
   },
   "file_extension": ".py",
   "mimetype": "text/x-python",
   "name": "python",
   "nbconvert_exporter": "python",
   "pygments_lexer": "ipython2",
   "version": "2.7.6"
  }
 },
 "nbformat": 4,
 "nbformat_minor": 5
}
