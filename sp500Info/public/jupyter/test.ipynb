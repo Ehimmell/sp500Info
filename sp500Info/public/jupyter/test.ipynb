{
 "cells": [
  {
   "metadata": {
    "ExecuteTime": {
     "end_time": "2024-05-21T02:36:45.286476Z",
     "start_time": "2024-05-21T02:36:44.869504Z"
    }
   },
   "cell_type": "code",
   "source": "import pandas as pd",
   "id": "c7118894bb2fe31a",
   "outputs": [],
   "execution_count": 1
  },
  {
   "metadata": {
    "ExecuteTime": {
     "end_time": "2024-05-21T02:37:01.757710Z",
     "start_time": "2024-05-21T02:37:01.753751Z"
    }
   },
   "cell_type": "code",
   "source": "date = pd.Timestamp.today()",
   "id": "9821a95b3f51911",
   "outputs": [],
   "execution_count": 2
  },
  {
   "metadata": {
    "ExecuteTime": {
     "end_time": "2024-05-21T02:37:04.900136Z",
     "start_time": "2024-05-21T02:37:04.895480Z"
    }
   },
   "cell_type": "code",
   "source": "date",
   "id": "b242d67f78b56979",
   "outputs": [
    {
     "data": {
      "text/plain": [
       "Timestamp('2024-05-20 21:37:01.755227')"
      ]
     },
     "execution_count": 3,
     "metadata": {},
     "output_type": "execute_result"
    }
   ],
   "execution_count": 3
  },
  {
   "metadata": {
    "ExecuteTime": {
     "end_time": "2024-05-21T02:37:15.253084Z",
     "start_time": "2024-05-21T02:37:15.250301Z"
    }
   },
   "cell_type": "code",
   "source": "print(date)",
   "id": "abaa95565b07113",
   "outputs": [
    {
     "name": "stdout",
     "output_type": "stream",
     "text": [
      "2024-05-20 21:37:01.755227\n"
     ]
    }
   ],
   "execution_count": 4
  },
  {
   "metadata": {
    "ExecuteTime": {
     "end_time": "2024-05-21T02:37:35.967847Z",
     "start_time": "2024-05-21T02:37:35.965598Z"
    }
   },
   "cell_type": "code",
   "source": "date = date.strftime('%Y-%m-%d')",
   "id": "9ffd6ad88063b0ca",
   "outputs": [],
   "execution_count": 6
  },
  {
   "metadata": {
    "ExecuteTime": {
     "end_time": "2024-05-21T02:37:41.130031Z",
     "start_time": "2024-05-21T02:37:41.127234Z"
    }
   },
   "cell_type": "code",
   "source": "date",
   "id": "26fecd8faba610f0",
   "outputs": [
    {
     "data": {
      "text/plain": [
       "'2024-05-20'"
      ]
     },
     "execution_count": 7,
     "metadata": {},
     "output_type": "execute_result"
    }
   ],
   "execution_count": 7
  },
  {
   "metadata": {
    "ExecuteTime": {
     "end_time": "2024-05-26T01:54:15.290976Z",
     "start_time": "2024-05-26T01:54:14.991601Z"
    }
   },
   "cell_type": "code",
   "source": [
    "import yfinance as yf\n",
    "\n",
    "appl = yf.Ticker(\"AAPL\")"
   ],
   "id": "4bc67017dcc310b6",
   "outputs": [],
   "execution_count": 1
  }
 ],
 "metadata": {
  "kernelspec": {
   "display_name": "Python 3",
   "language": "python",
   "name": "python3"
  },
  "language_info": {
   "codemirror_mode": {
    "name": "ipython",
    "version": 2
   },
   "file_extension": ".py",
   "mimetype": "text/x-python",
   "name": "python",
   "nbconvert_exporter": "python",
   "pygments_lexer": "ipython2",
   "version": "2.7.6"
  }
 },
 "nbformat": 4,
 "nbformat_minor": 5
}
