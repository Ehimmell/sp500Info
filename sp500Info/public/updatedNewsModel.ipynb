{
 "cells": [
  {
   "cell_type": "code",
   "id": "initial_id",
   "metadata": {
    "collapsed": true,
    "ExecuteTime": {
     "end_time": "2024-05-02T00:26:06.296742Z",
     "start_time": "2024-05-02T00:26:06.294095Z"
    }
   },
   "source": [
    "import numpy as np\n",
    "import matplotlib.pyplot as plt"
   ],
   "outputs": [],
   "execution_count": 60
  },
  {
   "metadata": {
    "ExecuteTime": {
     "end_time": "2024-05-02T00:26:06.301679Z",
     "start_time": "2024-05-02T00:26:06.298897Z"
    }
   },
   "cell_type": "code",
   "source": [
    "with open('../headlinesData/Bad.csv') as bad:\n",
    "    bad = bad.read().split('\\n')\n",
    "    "
   ],
   "id": "d53c4354357c8ff3",
   "outputs": [],
   "execution_count": 61
  },
  {
   "metadata": {
    "ExecuteTime": {
     "end_time": "2024-05-02T00:26:06.305695Z",
     "start_time": "2024-05-02T00:26:06.302687Z"
    }
   },
   "cell_type": "code",
   "source": "bad",
   "id": "f709842044925a5a",
   "outputs": [
    {
     "data": {
      "text/plain": [
       "['\"FTC Sues Block $ 8.5 Billion Deal Combine Makers Coach , Michael Kors\"',\n",
       " 'Verizon Stock Falls After Revenue Misses Expectations',\n",
       " 'Insurer Earnings Make Hospital Investors Sweat',\n",
       " '� Made Advertising � Websites Are Marketing Industry � Latest Messy Situation',\n",
       " 'PwC Looks Shrink New U.S . Consulting Partner Class More Than 50 %',\n",
       " '\"Companies Belly Up Cash Buffet , Five Charts\"',\n",
       " 'U.S . Fines Thai Company SCG Plastics $ 20 Million Over Alleged Iran Sanctions Violations',\n",
       " '\"Real-Estate Agents , Investment Advisers Chafe New Anti-Money-Laundering Rules\"',\n",
       " 'Prologis Warns Slowing Industrial Real-Estate Market',\n",
       " '\"CSX Revenue , Profit Fall Despite Rising Freight Volumes\"',\n",
       " 'Salesforce Calls AI Emissions Regulations Concerns Grow Over Tech Sector � Carbon Footprint',\n",
       " '\"FTC Blocks Tapestry , Capri $ 8.5 Billion Merger .\"',\n",
       " 'GE Aerospace � Earnings Are Going Be Strange . Stay Tuned .',\n",
       " 'Tesla Post Earnings After Tough Start Year',\n",
       " 'Cathie Wood � Popular ARK Funds Are Sinking Fast',\n",
       " 'Blackstone � Beleaguered Real-Estate Fund Stems Exodus',\n",
       " 'Shipping � Global Demand Downturn Is Proving Persistent',\n",
       " 'Congress Is Close TikTok Ban . These Companies Could Be Next .',\n",
       " 'JPMorgan � � Bloody Friday � : Why Several Top Financial Advisors Jumped Ship Same Day',\n",
       " '� Extraordinary � U.S. government debt may mean prolonged bond-market volatility',\n",
       " '2-year Treasury yield fall lowest week sign U.S. economy losing momentum',\n",
       " 'SEC Climate Disclosure Battle Leaves Investors Little Guidance',\n",
       " 'America ’ Economy Is No . 1 . That Means Trouble .',\n",
       " '\"Boeing Burns Through $ 4 Billion Cash , Scales Back 737 MAX Production\"',\n",
       " 'Elon Musk Needs Cheaper Teslas Pay Everything Else He Wants',\n",
       " 'What Banning TikTok U.S. Would Look Like',\n",
       " 'The True Cost Megamergers Healthcare : Higher Prices',\n",
       " 'Crypto Mixer Samourai Wallet ’ Co-founders Arrested Money Laundering',\n",
       " 'Ecuador ’ Former Comptroller General Convicted Case Tied Odebrecht',\n",
       " 'Meta ’ Costs Rise Rapidly Zuckerberg Vows Keep Spending AI Arms Race',\n",
       " 'Jefferies CEO Just Sold $ 65 Million Company Stock . He ’ Buying Yacht .',\n",
       " 'Meta Stock Plummets After Earnings . The Facebook Parent Is Aggressively Spending More AI.',\n",
       " 'One Europe ’ Fastest-Growing Energy Companies Wants Slice U.S. Offshore Wind Market',\n",
       " 'What FTC ’ Ban Means You',\n",
       " 'The Dream Fed Interest-Rate Cuts Is Slipping Away',\n",
       " 'Dow Ends Down 375 Points',\n",
       " 'What ’ Driving Bond Selloff ?',\n",
       " '\"Southwest Exit Four Airports , Facing Financial Weakness Boeing Problems\"',\n",
       " 'JPMorgan CEO Jamie Dimon Gives Soft Landing Long Odds',\n",
       " 'New EPA Emissions Rules Squeeze Coal Plants',\n",
       " 'Meta ’ License Spend AI Gets Checked',\n",
       " 'Foreign Aid Package Comes With New Sanctions Risks Companies',\n",
       " 'Copper Still Isn ’ One-Way Bet',\n",
       " 'Troubling S & P 500 chart suggests stock investor rough road ahead',\n",
       " '\"This ’ ‘ brink ’ U.S. consumer despite concerning economic data , say TCW\"',\n",
       " 'Smokeless Products Are Future Big Tobacco . This Company Is Losing Race .',\n",
       " 'Germany Considers Watering Down Plan Scrutinize Chinese Investments',\n",
       " 'Northrop ’ Rocket Fuel Factory Is Slow Take Off',\n",
       " 'Tech Spending Still Proves Thorny Some Advertising Companies',\n",
       " 'Rosenbush ’ Take : Rubrik IPO Reflects Increasingly Difficult Path Startups Face Going Public',\n",
       " 'Ukraine Aid Lifts Defense Industry Debate Over Profits Reignites',\n",
       " 'How TikTok Lost War Washington',\n",
       " 'Luxury Brands Have New Challenge . Ordinary Rich People Are Pulling Back .',\n",
       " 'Why Fed look likely scramble back hawkish stance',\n",
       " 'Soaring Treasury Yields Challenge Stock-Market Gains',\n",
       " 'Paramount Global CEO Bob Bakish Steps Down',\n",
       " 'Wall Street ’ Home-Buying Spree Faces Crackdown',\n",
       " '\"Taxes , Tariffs Debt : Investors Start Fear Election\"',\n",
       " 'AI Startups Have Plenty Cash . They Often Don ’ Yet Have Business .',\n",
       " 'Regulator Investigates Ford ’ Hands-Free Driving System After Fatal Crashes',\n",
       " 'SoFi Earnings Outlook Disappoints',\n",
       " 'Japan Intervenes After Yen Slides Against Dollar',\n",
       " 'Coursera Stock Falls Steeply Guidance Disappoints',\n",
       " 'Treasury Raises Amount It Expects Borrow . Tax Receipts Are Falling Short .',\n",
       " '\"Coursera , Chegg stock fall weaker guidance edtech company\"',\n",
       " '\"Paramount ’ Bakish stepping , new CEO office aim ‘ materially streamline operation ’\"',\n",
       " 'Coca-Cola ’ Earnings Growth Is Slowing . Its Results Are Due Tuesday .',\n",
       " 'Arista Stock Has Been Under Pressure . Why Analyst Is Bullish Ahead Earnings .',\n",
       " 'AMC ’ stock register biggest decline month preliminary first-quarter result']"
      ]
     },
     "execution_count": 62,
     "metadata": {},
     "output_type": "execute_result"
    }
   ],
   "execution_count": 62
  },
  {
   "metadata": {
    "ExecuteTime": {
     "end_time": "2024-05-02T00:26:06.309133Z",
     "start_time": "2024-05-02T00:26:06.307085Z"
    }
   },
   "cell_type": "code",
   "source": [
    "with open('../headlinesData/Good.csv') as good:\n",
    "    good = good.read().split('\\n')"
   ],
   "id": "dbbb2f25db22ab28",
   "outputs": [],
   "execution_count": 63
  },
  {
   "metadata": {
    "ExecuteTime": {
     "end_time": "2024-05-02T00:26:06.311889Z",
     "start_time": "2024-05-02T00:26:06.309965Z"
    }
   },
   "cell_type": "code",
   "source": [
    "with open('../headlinesData/Neutral.csv') as neutral:\n",
    "    neutral = neutral.read().split('\\n')"
   ],
   "id": "2019bd5bb64859cd",
   "outputs": [],
   "execution_count": 64
  },
  {
   "metadata": {
    "ExecuteTime": {
     "end_time": "2024-05-02T00:26:06.318486Z",
     "start_time": "2024-05-02T00:26:06.312606Z"
    }
   },
   "cell_type": "code",
   "source": [
    "import sklearn as sk\n",
    "from sklearn.feature_extraction.text import TfidfVectorizer\n",
    "\n",
    "v = TfidfVectorizer()\n",
    "\n",
    "good = v.fit_transform(good)\n",
    "\n",
    "bad = v.transform(bad)\n",
    "\n",
    "neutral = v.transform(neutral)"
   ],
   "id": "899f343be3b22439",
   "outputs": [],
   "execution_count": 65
  },
  {
   "metadata": {
    "ExecuteTime": {
     "end_time": "2024-05-02T00:26:06.320621Z",
     "start_time": "2024-05-02T00:26:06.319059Z"
    }
   },
   "cell_type": "code",
   "source": [
    "from sklearn import svm\n",
    "\n",
    "clf = svm.SVC(kernel='linear')"
   ],
   "id": "64489571a3c7b2c3",
   "outputs": [],
   "execution_count": 66
  },
  {
   "metadata": {
    "ExecuteTime": {
     "end_time": "2024-05-02T00:26:06.323549Z",
     "start_time": "2024-05-02T00:26:06.321331Z"
    }
   },
   "cell_type": "code",
   "source": [
    "trainGood = good[:int(good.shape[0]*.8)]\n",
    "trainBad = bad[:int(bad.shape[0]*.8)]\n",
    "trainNeutral = neutral[:int(neutral.shape[0]*.8)]\n",
    "\n",
    "testGood = good[int(good.shape[0]*.8):]\n",
    "testBad = bad[int(bad.shape[0]*.8):]\n",
    "testNeutral = neutral[int(neutral.shape[0]*.8):]"
   ],
   "id": "6eaba861b8257333",
   "outputs": [],
   "execution_count": 67
  },
  {
   "metadata": {
    "ExecuteTime": {
     "end_time": "2024-05-02T00:27:18.806882Z",
     "start_time": "2024-05-02T00:27:18.803661Z"
    }
   },
   "cell_type": "code",
   "source": "",
   "id": "7448ce0c08bc8493",
   "outputs": [
    {
     "data": {
      "text/plain": [
       "<55x327 sparse matrix of type '<class 'numpy.float64'>'\n",
       "\twith 133 stored elements in Compressed Sparse Row format>"
      ]
     },
     "execution_count": 70,
     "metadata": {},
     "output_type": "execute_result"
    }
   ],
   "execution_count": 70
  },
  {
   "metadata": {
    "ExecuteTime": {
     "end_time": "2024-05-02T00:30:11.837596Z",
     "start_time": "2024-05-02T00:30:11.832869Z"
    }
   },
   "cell_type": "code",
   "source": [
    "from sklearn.linear_model import SGDClassifier\n",
    "\n",
    "clf = SGDClassifier(loss='hinge', penalty='l2', max_iter=1000, tol=1e-3)\n",
    "def train():\n",
    "    goodStep = int(trainGood.shape[0]/10)\n",
    "    badStep = int(trainBad.shape[0]/10)\n",
    "    neutralStep = int(trainNeutral.shape[0]/10)\n",
    "    for i in range(9):\n",
    "        goodSlice = trainGood[i*goodStep:(i+1)*goodStep].toarray()\n",
    "        badSlice = trainBad[i*badStep:(i+1)*badStep].toarray()\n",
    "        neutralSlice = trainNeutral[i*neutralStep:(i+1)*neutralStep].toarray()\n",
    "\n",
    "        slices = [s for s in [goodSlice, badSlice, neutralSlice] if s.shape[0] > 0]\n",
    "        if not slices:\n",
    "            continue\n",
    "\n",
    "        train_data = np.concatenate(slices)\n",
    "        train_labels = np.concatenate((np.ones(goodSlice.shape[0]), np.zeros(badSlice.shape[0]), np.zeros(neutralSlice.shape[0])))\n",
    "        clf.partial_fit(train_data, train_labels, classes=np.array([0, 1]))"
   ],
   "id": "9a187553b2c0a80e",
   "outputs": [],
   "execution_count": 73
  },
  {
   "metadata": {
    "ExecuteTime": {
     "end_time": "2024-05-02T00:30:16.510218Z",
     "start_time": "2024-05-02T00:30:16.502613Z"
    }
   },
   "cell_type": "code",
   "source": "train()",
   "id": "163bdab36233ed4f",
   "outputs": [],
   "execution_count": 75
  },
  {
   "metadata": {
    "ExecuteTime": {
     "end_time": "2024-05-02T00:31:13.989708Z",
     "start_time": "2024-05-02T00:31:13.986023Z"
    }
   },
   "cell_type": "code",
   "source": [
    "def test():\n",
    "    goodStep = int(testGood.shape[0]/10)\n",
    "    badStep = int(testBad.shape[0]/10)\n",
    "    neutralStep = int(testNeutral.shape[0]/10)\n",
    "    for i in range(9):\n",
    "        goodSlice = testGood[i*goodStep:(i+1)*goodStep].toarray()\n",
    "        badSlice = testBad[i*badStep:(i+1)*badStep].toarray()\n",
    "        neutralSlice = testNeutral[i*neutralStep:(i+1)*neutralStep].toarray()\n",
    "\n",
    "        slices = [s for s in [goodSlice, badSlice, neutralSlice] if s.shape[0] > 0]\n",
    "        if not slices:\n",
    "            continue\n",
    "\n",
    "        test_data = np.concatenate(slices)\n",
    "        test_labels = np.concatenate((np.ones(goodSlice.shape[0]), np.zeros(badSlice.shape[0]), np.zeros(neutralSlice.shape[0])))\n",
    "        print(clf.score(test_data, test_labels))"
   ],
   "id": "abf715838db67080",
   "outputs": [],
   "execution_count": 76
  },
  {
   "metadata": {
    "ExecuteTime": {
     "end_time": "2024-05-02T00:31:18.513961Z",
     "start_time": "2024-05-02T00:31:18.506142Z"
    }
   },
   "cell_type": "code",
   "source": "test()",
   "id": "a34124554133df9d",
   "outputs": [
    {
     "name": "stdout",
     "output_type": "stream",
     "text": [
      "0.8571428571428571\n",
      "0.7142857142857143\n",
      "0.8571428571428571\n",
      "0.8571428571428571\n",
      "0.7142857142857143\n",
      "0.7142857142857143\n",
      "0.5714285714285714\n",
      "0.8571428571428571\n",
      "0.7142857142857143\n"
     ]
    }
   ],
   "execution_count": 77
  },
  {
   "metadata": {},
   "cell_type": "code",
   "outputs": [],
   "execution_count": null,
   "source": "#TODO: maybe try adding a column for what the stock rise or fall was the day before? that would take a lot of work though, as data would have to be split up and given a date. maybe make two models, this current one and one that combines the news direction with the stock direction",
   "id": "6590b96c317255f9"
  }
 ],
 "metadata": {
  "kernelspec": {
   "display_name": "Python 3",
   "language": "python",
   "name": "python3"
  },
  "language_info": {
   "codemirror_mode": {
    "name": "ipython",
    "version": 2
   },
   "file_extension": ".py",
   "mimetype": "text/x-python",
   "name": "python",
   "nbconvert_exporter": "python",
   "pygments_lexer": "ipython2",
   "version": "2.7.6"
  }
 },
 "nbformat": 4,
 "nbformat_minor": 5
}
