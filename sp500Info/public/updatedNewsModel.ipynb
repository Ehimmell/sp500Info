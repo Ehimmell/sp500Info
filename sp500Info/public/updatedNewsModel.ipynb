{
 "cells": [
  {
   "cell_type": "code",
   "id": "initial_id",
   "metadata": {
    "collapsed": true,
    "ExecuteTime": {
     "end_time": "2024-05-02T21:39:24.316561Z",
     "start_time": "2024-05-02T21:39:24.314498Z"
    }
   },
   "source": [
    "import numpy as np\n",
    "import matplotlib.pyplot as plt"
   ],
   "outputs": [],
   "execution_count": 272
  },
  {
   "metadata": {
    "ExecuteTime": {
     "end_time": "2024-05-02T21:39:24.348176Z",
     "start_time": "2024-05-02T21:39:24.346503Z"
    }
   },
   "cell_type": "code",
   "source": [
    "with open('../headlinesData/Bad.csv') as bad:\n",
    "    bad = bad.read().split('\\n')\n",
    "    "
   ],
   "id": "d53c4354357c8ff3",
   "outputs": [],
   "execution_count": 273
  },
  {
   "metadata": {
    "ExecuteTime": {
     "end_time": "2024-05-02T21:39:24.368203Z",
     "start_time": "2024-05-02T21:39:24.366128Z"
    }
   },
   "cell_type": "code",
   "source": "bad",
   "id": "f709842044925a5a",
   "outputs": [
    {
     "data": {
      "text/plain": [
       "['\"FTC Sues Block $ 8.5 Billion Deal Combine Makers Coach , Michael Kors\"',\n",
       " 'Verizon Stock Falls After Revenue Misses Expectations',\n",
       " 'Insurer Earnings Make Hospital Investors Sweat',\n",
       " '� Made Advertising � Websites Are Marketing Industry � Latest Messy Situation',\n",
       " 'PwC Looks Shrink New U.S . Consulting Partner Class More Than 50 %',\n",
       " '\"Companies Belly Up Cash Buffet , Five Charts\"',\n",
       " 'U.S . Fines Thai Company SCG Plastics $ 20 Million Over Alleged Iran Sanctions Violations',\n",
       " '\"Real-Estate Agents , Investment Advisers Chafe New Anti-Money-Laundering Rules\"',\n",
       " 'Prologis Warns Slowing Industrial Real-Estate Market',\n",
       " '\"CSX Revenue , Profit Fall Despite Rising Freight Volumes\"',\n",
       " 'Salesforce Calls AI Emissions Regulations Concerns Grow Over Tech Sector � Carbon Footprint',\n",
       " '\"FTC Blocks Tapestry , Capri $ 8.5 Billion Merger .\"',\n",
       " 'GE Aerospace � Earnings Are Going Be Strange . Stay Tuned .',\n",
       " 'Tesla Post Earnings After Tough Start Year',\n",
       " 'Cathie Wood � Popular ARK Funds Are Sinking Fast',\n",
       " 'Blackstone � Beleaguered Real-Estate Fund Stems Exodus',\n",
       " 'Shipping � Global Demand Downturn Is Proving Persistent',\n",
       " 'Congress Is Close TikTok Ban . These Companies Could Be Next .',\n",
       " 'JPMorgan � � Bloody Friday � : Why Several Top Financial Advisors Jumped Ship Same Day',\n",
       " '� Extraordinary � U.S. government debt may mean prolonged bond-market volatility',\n",
       " '2-year Treasury yield fall lowest week sign U.S. economy losing momentum',\n",
       " 'SEC Climate Disclosure Battle Leaves Investors Little Guidance',\n",
       " 'America ’ Economy Is No . 1 . That Means Trouble .',\n",
       " '\"Boeing Burns Through $ 4 Billion Cash , Scales Back 737 MAX Production\"',\n",
       " 'Elon Musk Needs Cheaper Teslas Pay Everything Else He Wants',\n",
       " 'What Banning TikTok U.S. Would Look Like',\n",
       " 'The True Cost Megamergers Healthcare : Higher Prices',\n",
       " 'Crypto Mixer Samourai Wallet ’ Co-founders Arrested Money Laundering',\n",
       " 'Ecuador ’ Former Comptroller General Convicted Case Tied Odebrecht',\n",
       " 'Meta ’ Costs Rise Rapidly Zuckerberg Vows Keep Spending AI Arms Race',\n",
       " 'Jefferies CEO Just Sold $ 65 Million Company Stock . He ’ Buying Yacht .',\n",
       " 'Meta Stock Plummets After Earnings . The Facebook Parent Is Aggressively Spending More AI.',\n",
       " 'One Europe ’ Fastest-Growing Energy Companies Wants Slice U.S. Offshore Wind Market',\n",
       " 'What FTC ’ Ban Means You',\n",
       " 'The Dream Fed Interest-Rate Cuts Is Slipping Away',\n",
       " 'Dow Ends Down 375 Points',\n",
       " 'What ’ Driving Bond Selloff ?',\n",
       " '\"Southwest Exit Four Airports , Facing Financial Weakness Boeing Problems\"',\n",
       " 'JPMorgan CEO Jamie Dimon Gives Soft Landing Long Odds',\n",
       " 'New EPA Emissions Rules Squeeze Coal Plants',\n",
       " 'Meta ’ License Spend AI Gets Checked',\n",
       " 'Foreign Aid Package Comes With New Sanctions Risks Companies',\n",
       " 'Copper Still Isn ’ One-Way Bet',\n",
       " 'Troubling S & P 500 chart suggests stock investor rough road ahead',\n",
       " '\"This ’ ‘ brink ’ U.S. consumer despite concerning economic data , say TCW\"',\n",
       " 'Smokeless Products Are Future Big Tobacco . This Company Is Losing Race .',\n",
       " 'Germany Considers Watering Down Plan Scrutinize Chinese Investments',\n",
       " 'Northrop ’ Rocket Fuel Factory Is Slow Take Off',\n",
       " 'Tech Spending Still Proves Thorny Some Advertising Companies',\n",
       " 'Rosenbush ’ Take : Rubrik IPO Reflects Increasingly Difficult Path Startups Face Going Public',\n",
       " 'Ukraine Aid Lifts Defense Industry Debate Over Profits Reignites',\n",
       " 'How TikTok Lost War Washington',\n",
       " 'Luxury Brands Have New Challenge . Ordinary Rich People Are Pulling Back .',\n",
       " 'Why Fed look likely scramble back hawkish stance',\n",
       " 'Soaring Treasury Yields Challenge Stock-Market Gains',\n",
       " 'Paramount Global CEO Bob Bakish Steps Down',\n",
       " 'Wall Street ’ Home-Buying Spree Faces Crackdown',\n",
       " '\"Taxes , Tariffs Debt : Investors Start Fear Election\"',\n",
       " 'AI Startups Have Plenty Cash . They Often Don ’ Yet Have Business .',\n",
       " 'Regulator Investigates Ford ’ Hands-Free Driving System After Fatal Crashes',\n",
       " 'SoFi Earnings Outlook Disappoints',\n",
       " 'Japan Intervenes After Yen Slides Against Dollar',\n",
       " 'Coursera Stock Falls Steeply Guidance Disappoints',\n",
       " 'Treasury Raises Amount It Expects Borrow . Tax Receipts Are Falling Short .',\n",
       " '\"Coursera , Chegg stock fall weaker guidance edtech company\"',\n",
       " '\"Paramount ’ Bakish stepping , new CEO office aim ‘ materially streamline operation ’\"',\n",
       " 'Coca-Cola ’ Earnings Growth Is Slowing . Its Results Are Due Tuesday .',\n",
       " 'Arista Stock Has Been Under Pressure . Why Analyst Is Bullish Ahead Earnings .',\n",
       " 'AMC ’ stock register biggest decline month preliminary first-quarter result']"
      ]
     },
     "execution_count": 274,
     "metadata": {},
     "output_type": "execute_result"
    }
   ],
   "execution_count": 274
  },
  {
   "metadata": {
    "ExecuteTime": {
     "end_time": "2024-05-02T21:39:24.370773Z",
     "start_time": "2024-05-02T21:39:24.368943Z"
    }
   },
   "cell_type": "code",
   "source": [
    "with open('../headlinesData/Good.csv') as good:\n",
    "    good = good.read().split('\\n')"
   ],
   "id": "dbbb2f25db22ab28",
   "outputs": [],
   "execution_count": 275
  },
  {
   "metadata": {
    "ExecuteTime": {
     "end_time": "2024-05-02T21:39:24.377745Z",
     "start_time": "2024-05-02T21:39:24.376117Z"
    }
   },
   "cell_type": "code",
   "source": [
    "with open('../headlinesData/Neutral.csv') as neutral:\n",
    "    neutral = neutral.read().split('\\n')"
   ],
   "id": "2019bd5bb64859cd",
   "outputs": [],
   "execution_count": 276
  },
  {
   "metadata": {
    "ExecuteTime": {
     "end_time": "2024-05-02T21:39:24.382862Z",
     "start_time": "2024-05-02T21:39:24.378446Z"
    }
   },
   "cell_type": "code",
   "source": [
    "import sklearn as sk\n",
    "from sklearn.feature_extraction.text import TfidfVectorizer\n",
    "\n",
    "v = TfidfVectorizer()\n",
    "\n",
    "good = v.fit_transform(good)\n",
    "\n",
    "bad = v.transform(bad)\n",
    "\n",
    "neutral = v.transform(neutral)"
   ],
   "id": "899f343be3b22439",
   "outputs": [],
   "execution_count": 277
  },
  {
   "metadata": {
    "ExecuteTime": {
     "end_time": "2024-05-02T21:39:24.384827Z",
     "start_time": "2024-05-02T21:39:24.383545Z"
    }
   },
   "cell_type": "code",
   "source": [
    "from sklearn import svm\n",
    "\n",
    "clf = svm.SVC(kernel='linear')"
   ],
   "id": "64489571a3c7b2c3",
   "outputs": [],
   "execution_count": 278
  },
  {
   "metadata": {
    "ExecuteTime": {
     "end_time": "2024-05-02T21:39:24.387461Z",
     "start_time": "2024-05-02T21:39:24.385547Z"
    }
   },
   "cell_type": "code",
   "source": [
    "trainGood = good[:int(good.shape[0]*.8)]\n",
    "trainBad = bad[:int(bad.shape[0]*.8)]\n",
    "trainNeutral = neutral[:int(neutral.shape[0]*.8)]\n",
    "\n",
    "testGood = good[int(good.shape[0]*.8):]\n",
    "testBad = bad[int(bad.shape[0]*.8):]\n",
    "testNeutral = neutral[int(neutral.shape[0]*.8):]"
   ],
   "id": "6eaba861b8257333",
   "outputs": [],
   "execution_count": 279
  },
  {
   "metadata": {
    "ExecuteTime": {
     "end_time": "2024-05-02T21:39:24.389047Z",
     "start_time": "2024-05-02T21:39:24.387956Z"
    }
   },
   "cell_type": "code",
   "source": "",
   "id": "7448ce0c08bc8493",
   "outputs": [],
   "execution_count": 279
  },
  {
   "metadata": {
    "ExecuteTime": {
     "end_time": "2024-05-02T21:39:24.392042Z",
     "start_time": "2024-05-02T21:39:24.389776Z"
    }
   },
   "cell_type": "code",
   "source": [
    "from sklearn.linear_model import SGDClassifier\n",
    "\n",
    "clf = SGDClassifier(loss='hinge', penalty='l2', max_iter=1000, tol=1e-3)\n",
    "def train():\n",
    "    goodStep = int(trainGood.shape[0]/10)\n",
    "    badStep = int(trainBad.shape[0]/10)\n",
    "    neutralStep = int(trainNeutral.shape[0]/10)\n",
    "    for i in range(9):\n",
    "        goodSlice = trainGood[i*goodStep:(i+1)*goodStep].toarray()\n",
    "        badSlice = trainBad[i*badStep:(i+1)*badStep].toarray()\n",
    "        neutralSlice = trainNeutral[i*neutralStep:(i+1)*neutralStep].toarray()\n",
    "\n",
    "        slices = [s for s in [goodSlice, badSlice, neutralSlice] if s.shape[0] > 0]\n",
    "        if not slices:\n",
    "            continue\n",
    "\n",
    "        train_data = np.concatenate(slices)\n",
    "        train_labels = np.concatenate((np.ones(goodSlice.shape[0]), np.zeros(badSlice.shape[0]), np.zeros(neutralSlice.shape[0])))\n",
    "        clf.partial_fit(train_data, train_labels, classes=np.array([0, 1]))"
   ],
   "id": "9a187553b2c0a80e",
   "outputs": [],
   "execution_count": 280
  },
  {
   "metadata": {
    "ExecuteTime": {
     "end_time": "2024-05-02T21:39:24.396995Z",
     "start_time": "2024-05-02T21:39:24.393090Z"
    }
   },
   "cell_type": "code",
   "source": "train()",
   "id": "163bdab36233ed4f",
   "outputs": [],
   "execution_count": 281
  },
  {
   "metadata": {
    "ExecuteTime": {
     "end_time": "2024-05-02T21:39:24.407679Z",
     "start_time": "2024-05-02T21:39:24.406298Z"
    }
   },
   "cell_type": "code",
   "source": "old_scores = []",
   "id": "6db0d3ffdb72503f",
   "outputs": [],
   "execution_count": 282
  },
  {
   "metadata": {
    "ExecuteTime": {
     "end_time": "2024-05-02T21:39:24.417088Z",
     "start_time": "2024-05-02T21:39:24.414910Z"
    }
   },
   "cell_type": "code",
   "source": [
    "def test():\n",
    "    goodStep = int(testGood.shape[0]/10)\n",
    "    badStep = int(testBad.shape[0]/10)\n",
    "    neutralStep = int(testNeutral.shape[0]/10)\n",
    "    for i in range(9):\n",
    "        goodSlice = testGood[i*goodStep:(i+1)*goodStep].toarray()\n",
    "        badSlice = testBad[i*badStep:(i+1)*badStep].toarray()\n",
    "        neutralSlice = testNeutral[i*neutralStep:(i+1)*neutralStep].toarray()\n",
    "\n",
    "        slices = [s for s in [goodSlice, badSlice, neutralSlice] if s.shape[0] > 0]\n",
    "        if not slices:\n",
    "            continue\n",
    "\n",
    "        test_data = np.concatenate(slices)\n",
    "        test_labels = np.concatenate((np.ones(goodSlice.shape[0]), np.zeros(badSlice.shape[0]), np.zeros(neutralSlice.shape[0])))\n",
    "        print(clf.score(test_data, test_labels))\n",
    "        old_scores.append(clf.score(test_data, test_labels))"
   ],
   "id": "abf715838db67080",
   "outputs": [],
   "execution_count": 283
  },
  {
   "metadata": {
    "ExecuteTime": {
     "end_time": "2024-05-02T21:39:24.423565Z",
     "start_time": "2024-05-02T21:39:24.417831Z"
    }
   },
   "cell_type": "code",
   "source": "test()",
   "id": "a34124554133df9d",
   "outputs": [
    {
     "name": "stdout",
     "output_type": "stream",
     "text": [
      "0.8571428571428571\n",
      "0.7142857142857143\n",
      "0.8571428571428571\n",
      "0.5714285714285714\n",
      "0.5714285714285714\n",
      "0.5714285714285714\n",
      "0.5714285714285714\n",
      "0.5714285714285714\n",
      "0.42857142857142855\n"
     ]
    }
   ],
   "execution_count": 284
  },
  {
   "metadata": {
    "ExecuteTime": {
     "end_time": "2024-05-02T21:39:24.425581Z",
     "start_time": "2024-05-02T21:39:24.424323Z"
    }
   },
   "cell_type": "code",
   "source": "#TODO: maybe try adding a column for what the stock rise or fall was the day before? that would take a lot of work though, as data would have to be split up and given a date. maybe make two models, this current one and one that combines the news direction with the stock direction",
   "id": "6590b96c317255f9",
   "outputs": [],
   "execution_count": 285
  },
  {
   "metadata": {
    "ExecuteTime": {
     "end_time": "2024-05-02T21:39:24.427239Z",
     "start_time": "2024-05-02T21:39:24.426041Z"
    }
   },
   "cell_type": "code",
   "source": [
    "from nltk.tokenize import word_tokenize\n",
    "from afinn import Afinn"
   ],
   "id": "c803139209329740",
   "outputs": [],
   "execution_count": 286
  },
  {
   "metadata": {
    "ExecuteTime": {
     "end_time": "2024-05-02T21:39:24.432818Z",
     "start_time": "2024-05-02T21:39:24.427991Z"
    }
   },
   "cell_type": "code",
   "source": "afinn = Afinn()\n",
   "id": "2454f08dac09325",
   "outputs": [],
   "execution_count": 287
  },
  {
   "metadata": {
    "ExecuteTime": {
     "end_time": "2024-05-02T21:39:24.434742Z",
     "start_time": "2024-05-02T21:39:24.433508Z"
    }
   },
   "cell_type": "code",
   "source": [
    "def sentiment(textArray):\n",
    "    return [afinn.score(text) for text in textArray]"
   ],
   "id": "8f5afe690cd6f3d0",
   "outputs": [],
   "execution_count": 288
  },
  {
   "metadata": {
    "ExecuteTime": {
     "end_time": "2024-05-02T21:39:24.437613Z",
     "start_time": "2024-05-02T21:39:24.435866Z"
    }
   },
   "cell_type": "code",
   "source": [
    "with open('../headlinesData/Good.csv') as goodText:\n",
    "    goodText = goodText.read().split('\\n')\n",
    "    \n",
    "with open('../headlinesData/Bad.csv') as badText:\n",
    "    badText = badText.read().split('\\n')\n",
    "\n",
    "with open('../headlinesData/Neutral.csv') as neutralText:\n",
    "    neutralText = neutralText.read().split('\\n')"
   ],
   "id": "2cb5e86c9c8cc690",
   "outputs": [],
   "execution_count": 289
  },
  {
   "metadata": {
    "ExecuteTime": {
     "end_time": "2024-05-02T21:39:24.488463Z",
     "start_time": "2024-05-02T21:39:24.443115Z"
    }
   },
   "cell_type": "code",
   "source": [
    "goodSentiment = sentiment(goodText)\n",
    "badSentiment = sentiment(badText)\n",
    "neutralSentiment = sentiment(neutralText)"
   ],
   "id": "c4caaf23c4007d5f",
   "outputs": [],
   "execution_count": 290
  },
  {
   "metadata": {
    "ExecuteTime": {
     "end_time": "2024-05-02T21:39:24.490535Z",
     "start_time": "2024-05-02T21:39:24.489340Z"
    }
   },
   "cell_type": "code",
   "source": "",
   "id": "296e23428f36ec7",
   "outputs": [],
   "execution_count": 290
  },
  {
   "metadata": {
    "ExecuteTime": {
     "end_time": "2024-05-02T21:39:24.493002Z",
     "start_time": "2024-05-02T21:39:24.491095Z"
    }
   },
   "cell_type": "code",
   "source": [
    "import pandas as pd\n",
    "from sklearn.feature_extraction.text import TfidfVectorizer\n",
    "import numpy as np\n",
    "\n",
    "v = TfidfVectorizer()\n",
    "\n",
    "good_df = pd.DataFrame({'text': goodText, 'sentiment': goodSentiment})\n",
    "bad_df = pd.DataFrame({'text': badText, 'sentiment': badSentiment})\n",
    "neutral_df = pd.DataFrame({'text': neutralText, 'sentiment': neutralSentiment})\n"
   ],
   "id": "610ffb971bececf1",
   "outputs": [],
   "execution_count": 291
  },
  {
   "metadata": {
    "ExecuteTime": {
     "end_time": "2024-05-02T21:39:24.498519Z",
     "start_time": "2024-05-02T21:39:24.493905Z"
    }
   },
   "cell_type": "code",
   "source": [
    "good_tf = v.fit_transform(good_df['text'])\n",
    "bad_tf = v.transform(bad_df['text'])\n",
    "neutral_tf = v.transform(neutral_df['text'])\n",
    "\n",
    "good_features = np.hstack([good_tf.toarray(), good_df['sentiment'].values.reshape(-1, 1)])\n",
    "bad_features = np.hstack([bad_tf.toarray(), bad_df['sentiment'].values.reshape(-1, 1)])\n",
    "neutral_features = np.hstack([neutral_tf.toarray(), neutral_df['sentiment'].values.reshape(-1, 1)])\n",
    "    \n",
    "    "
   ],
   "id": "431c48c86875868c",
   "outputs": [],
   "execution_count": 292
  },
  {
   "metadata": {
    "ExecuteTime": {
     "end_time": "2024-05-02T21:39:24.500810Z",
     "start_time": "2024-05-02T21:39:24.498974Z"
    }
   },
   "cell_type": "code",
   "source": [
    "good_train = good_features[:int(good_features.shape[0]*.8)]\n",
    "bad_train = bad_features[:int(bad_features.shape[0]*.8)]\n",
    "neutral_train = neutral_features[:int(neutral_features.shape[0]*.8)]\n",
    "\n",
    "good_test = good_features[int(good_features.shape[0]*.8):]\n",
    "bad_test = bad_features[int(bad_features.shape[0]*.8):]\n",
    "neutral_test = neutral_features[int(neutral_features.shape[0]*.8):]\n",
    "\n",
    "clf = SGDClassifier(loss='hinge', penalty='l2', max_iter=1000, tol=1e-3)"
   ],
   "id": "c64f4ae10063f029",
   "outputs": [],
   "execution_count": 293
  },
  {
   "metadata": {
    "ExecuteTime": {
     "end_time": "2024-05-02T21:39:24.503333Z",
     "start_time": "2024-05-02T21:39:24.501336Z"
    }
   },
   "cell_type": "code",
   "source": [
    "def reTrain():\n",
    "    good_step = int(good_train.shape[0]/20)\n",
    "    bad_step = int(bad_train.shape[0]/20)\n",
    "    neutral_step = int(neutral_train.shape[0]/20)\n",
    "    \n",
    "    for i in range(19):\n",
    "        good_slice = good_train[i*good_step:(i+1)*good_step]\n",
    "        bad_slice = bad_train[i*bad_step:(i+1)*bad_step]\n",
    "        neutral_slice = neutral_train[i*neutral_step:(i+1)*neutral_step]\n",
    "        \n",
    "        slices = [s for s in [good_slice, bad_slice, neutral_slice] if s.shape[0] > 0]\n",
    "        if not slices:\n",
    "            continue\n",
    "        \n",
    "        train_data = np.concatenate(slices)\n",
    "        train_labels = np.concatenate((np.ones(good_slice.shape[0]), np.zeros(bad_slice.shape[0]), np.zeros(neutral_slice.shape[0])))\n",
    "        clf.partial_fit(train_data, train_labels, classes=np.array([0, 1]))"
   ],
   "id": "67cbc1cd66ca8857",
   "outputs": [],
   "execution_count": 294
  },
  {
   "metadata": {
    "ExecuteTime": {
     "end_time": "2024-05-02T21:39:24.507700Z",
     "start_time": "2024-05-02T21:39:24.503833Z"
    }
   },
   "cell_type": "code",
   "source": "reTrain()",
   "id": "3da297e44b3abd42",
   "outputs": [],
   "execution_count": 295
  },
  {
   "metadata": {
    "ExecuteTime": {
     "end_time": "2024-05-02T21:39:24.509671Z",
     "start_time": "2024-05-02T21:39:24.508334Z"
    }
   },
   "cell_type": "code",
   "source": "new_scores =[]",
   "id": "679335921568d9e0",
   "outputs": [],
   "execution_count": 296
  },
  {
   "metadata": {
    "ExecuteTime": {
     "end_time": "2024-05-02T21:39:24.512190Z",
     "start_time": "2024-05-02T21:39:24.510069Z"
    }
   },
   "cell_type": "code",
   "source": [
    "def reTest():\n",
    "    good_step = int(good_test.shape[0]/10)\n",
    "    bad_step = int(bad_test.shape[0]/10)\n",
    "    neutral_step = int(neutral_test.shape[0]/10)\n",
    "    \n",
    "    for i in range(9):\n",
    "        good_slice = good_test[i*good_step:(i+1)*good_step]\n",
    "        bad_slice = bad_test[i*bad_step:(i+1)*bad_step]\n",
    "        neutral_slice = neutral_test[i*neutral_step:(i+1)*neutral_step]\n",
    "        \n",
    "        slices = [s for s in [good_slice, bad_slice, neutral_slice] if s.shape[0] > 0]\n",
    "        if not slices:\n",
    "            continue\n",
    "        \n",
    "        test_data = np.concatenate(slices)\n",
    "        test_labels = np.concatenate((np.ones(good_slice.shape[0]), np.zeros(bad_slice.shape[0]), np.zeros(neutral_slice.shape[0])))\n",
    "        new_scores.append(clf.score(test_data, test_labels))"
   ],
   "id": "9efed9cd520c78bf",
   "outputs": [],
   "execution_count": 297
  },
  {
   "metadata": {
    "ExecuteTime": {
     "end_time": "2024-05-02T21:39:24.516623Z",
     "start_time": "2024-05-02T21:39:24.513522Z"
    }
   },
   "cell_type": "code",
   "source": "reTest()",
   "id": "ffd83c0a5f2543c2",
   "outputs": [],
   "execution_count": 298
  },
  {
   "metadata": {
    "ExecuteTime": {
     "end_time": "2024-05-02T21:39:24.518391Z",
     "start_time": "2024-05-02T21:39:24.517068Z"
    }
   },
   "cell_type": "code",
   "source": [
    "old = np.array(old_scores).mean();\n",
    "new = np.array(new_scores).mean();"
   ],
   "id": "24c41a37b0b6d493",
   "outputs": [],
   "execution_count": 299
  },
  {
   "metadata": {
    "ExecuteTime": {
     "end_time": "2024-05-02T21:39:24.520535Z",
     "start_time": "2024-05-02T21:39:24.518792Z"
    }
   },
   "cell_type": "code",
   "source": "old",
   "id": "6fda9f3be93b818f",
   "outputs": [
    {
     "data": {
      "text/plain": [
       "0.6349206349206349"
      ]
     },
     "execution_count": 300,
     "metadata": {},
     "output_type": "execute_result"
    }
   ],
   "execution_count": 300
  },
  {
   "metadata": {
    "ExecuteTime": {
     "end_time": "2024-05-02T21:39:24.522542Z",
     "start_time": "2024-05-02T21:39:24.520931Z"
    }
   },
   "cell_type": "code",
   "source": "new",
   "id": "c57516e1946bc1a9",
   "outputs": [
    {
     "data": {
      "text/plain": [
       "0.6349206349206349"
      ]
     },
     "execution_count": 301,
     "metadata": {},
     "output_type": "execute_result"
    }
   ],
   "execution_count": 301
  }
 ],
 "metadata": {
  "kernelspec": {
   "display_name": "Python 3",
   "language": "python",
   "name": "python3"
  },
  "language_info": {
   "codemirror_mode": {
    "name": "ipython",
    "version": 2
   },
   "file_extension": ".py",
   "mimetype": "text/x-python",
   "name": "python",
   "nbconvert_exporter": "python",
   "pygments_lexer": "ipython2",
   "version": "2.7.6"
  }
 },
 "nbformat": 4,
 "nbformat_minor": 5
}
